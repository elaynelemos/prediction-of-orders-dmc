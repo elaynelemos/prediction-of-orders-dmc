{
 "cells": [
  {
   "cell_type": "markdown",
   "metadata": {},
   "source": [
    "<br>\n",
    "<center>\n",
    "<img src=\"https://raw.githubusercontent.com/elaynelemos/prediction-of-orders-dmc/main/assets/img/univasf-logo.png\" width=200>\n",
    "<h3>\n",
    "    UNIVERSIDADE FEDERAL DO VALE DO SÃO FRANCISCO\n",
    "    <br>COLEGIADO DE ENGENHARIA DE COMPUTAÇÃO\n",
    "</h3>\n",
    "\n",
    "<h3>Orientador</h3>\n",
    "<span>Prof. Dr. Rosalvo Ferreira de Oliveira Neto</span>\n",
    "\n",
    "<h3>Discentes</h3>\n",
    "<span>Anísio Pereira Batista Filho\n",
    "<br>Edjair Aguiar Gomes Filho\n",
    "<br>Elayne Rute Lessa Lemos</span>\n",
    "</center>\n",
    "<br><br>"
   ]
  },
  {
   "cell_type": "markdown",
   "metadata": {},
   "source": [
    "## Predição de pedidos com Redes Neurais e Random Forest\n",
    "\n",
    "Projeto em: [github.com/elaynelemos/prediction-of-orders-dmc](https://github.com/elaynelemos/prediction-of-orders-dmc)"
   ]
  },
  {
   "cell_type": "markdown",
   "metadata": {},
   "source": [
    "## Data Mining"
   ]
  },
  {
   "cell_type": "markdown",
   "metadata": {},
   "source": [
    "### Importação das Bibliotecas"
   ]
  },
  {
   "cell_type": "code",
   "execution_count": 48,
   "metadata": {},
   "outputs": [],
   "source": [
    "#Numpy\n",
    "import numpy as np\n",
    "#Pandas\n",
    "import pandas as pd\n",
    "#Matplotlib\n",
    "import matplotlib.pyplot as plt\n",
    "\n",
    "#Métricas do sklearn:\n",
    "from sklearn.metrics import confusion_matrix\n",
    "from sklearn.metrics import accuracy_score\n",
    "from sklearn.metrics import roc_auc_score\n",
    "from sklearn.metrics import precision_score\n",
    "import sklearn.metrics as metrics\n",
    "from sklearn.model_selection import KFold\n",
    "\n",
    "#Random Forest Classifier\n",
    "from sklearn.ensemble import RandomForestClassifier\n",
    "\n",
    "#Keras\n",
    "from keras.models import Sequential\n",
    "from keras.layers import InputLayer, Dense\n",
    "#from keras.optimizers import SGD\n",
    "from tensorflow.keras.optimizers import SGD"
   ]
  },
  {
   "cell_type": "markdown",
   "metadata": {},
   "source": [
    "### Carregando os dados de treinamento"
   ]
  },
  {
   "cell_type": "code",
   "execution_count": 17,
   "metadata": {},
   "outputs": [],
   "source": [
    "session_train_X_mean_drop_replacing = pd.read_csv('data/session_train_X_mean_drop_replacing.csv')\n",
    "session_train_X_mean_replacing = pd.read_csv('data/session_train_X_mean_replacing.csv')\n",
    "session_train_X_median_replacing = pd.read_csv('data/session_train_X_median_replacing.csv')\n",
    "session_train_X_min_replacing = pd.read_csv('data/session_train_X_min_replacing.csv')\n",
    "\n",
    "session_train_y_mean_drop_replacing = pd.read_csv('data/session_train_y_mean_drop_replacing.csv')\n",
    "session_train_y_mean_replacing = pd.read_csv('data/session_train_y_mean_replacing.csv')\n",
    "session_train_y_median_replacing = pd.read_csv('data/session_train_y_median_replacing.csv')\n",
    "session_train_y_min_replacing = pd.read_csv('data/session_train_y_min_replacing.csv')"
   ]
  },
  {
   "cell_type": "markdown",
   "metadata": {},
   "source": [
    "### Carregando os dados de teste"
   ]
  },
  {
   "cell_type": "code",
   "execution_count": 18,
   "metadata": {},
   "outputs": [],
   "source": [
    "session_test_X_mean_drop_replacing = pd.read_csv('data/session_test_X_mean_drop_replacing.csv')\n",
    "session_test_X_mean_replacing = pd.read_csv('data/session_test_X_mean_replacing.csv')\n",
    "session_test_X_median_replacing = pd.read_csv('data/session_test_X_median_replacing.csv')\n",
    "session_test_X_min_replacing = pd.read_csv('data/session_test_X_min_replacing.csv')\n",
    "\n"
   ]
  },
  {
   "cell_type": "markdown",
   "metadata": {},
   "source": [
    "### Classificador Random Forest"
   ]
  },
  {
   "cell_type": "code",
   "execution_count": null,
   "metadata": {},
   "outputs": [],
   "source": [
    "#Classificador Random Forest\n",
    "## Para session_train_mean_drop_replacing\n",
    "\n",
    "#DATA MINING\n",
    "#RC_mean_drop_replacing = RandomForestClassifier(n_estimators=100, max_features=10)\n",
    "#RC_mean_drop_replacing.fit(session_train_X_mean_drop_replacing, session_train_y_mean_drop_replacing.order.to_numpy())\n",
    "\n",
    "#CROSS-VALIDATION\n",
    "X = session_train_X_mean_drop_replacing\n",
    "y = session_train_y_mean_drop_replacing\n",
    "kf = KFold(n_splits=10, random_state=42, shuffle=True)\n",
    "for train_index, test_index in kf.split(X):\n",
    "    X_train, X_test = X.iloc[train_index], X.iloc[test_index]\n",
    "    y_train, y_test = y.iloc[train_index], y.iloc[test_index]\n",
    "\n",
    "    #DATA MINING\n",
    "    RC_mean_drop_replacing = RandomForestClassifier(n_estimators=100, max_features=10)\n",
    "    RC_mean_drop_replacing.fit(X_train, y_train.order.to_numpy())\n",
    "\n",
    "    #AVALIAÇÃO\n",
    "    #Passo 1: Recuperar a resposta do modelo para o conjunto de teste e armazenar em um vetor\n",
    "    y_pred = RC_mean_drop_replacing.predict(X_test)\n",
    "\n",
    "    #Passo 2: Gerar a Matriz de Confusão (linhas = real | colunas = previsto)\n",
    "    cm = confusion_matrix(y_test, y_pred)\n",
    "    df_cm = pd.DataFrame(cm)\n",
    "\n",
    "    ##Mudandando a ordem para vir primeiro 1 e depois 0\n",
    "    df_cm = df_cm[[1, 0]]\n",
    "    df_cm = df_cm.sort_index( ascending = False )\n",
    "    print(\"Matriz de Confusão (linhas = real | colunas = previsto):\\n\", df_cm)\n",
    "\n",
    "    #Passo 3: Recuperar os valores da matriz de confusão\n",
    "    # Verdadeiro positivo\n",
    "    a = df_cm.iloc[0,0]\n",
    "    # Falso positivo\n",
    "    b = df_cm.iloc[1,0]\n",
    "    # Falso negativo\n",
    "    c = df_cm.iloc[0, 1]\n",
    "    # Verdadeiro negativo\n",
    "    d = df_cm.iloc[1, 1]\n",
    "\n",
    "    ##Calculando a acurácia do modelo\n",
    "    acuracia = (a + d) / (a + b + c + d)\n",
    "    print(\"Acuracia:\", acuracia)\n",
    "\n",
    "    ##Calculando a precisão do modelo\n",
    "    precisao = a / (a + b)\n",
    "    print(\"Precisão:\", precisao)\n",
    "\n",
    "    ##Calculando a sensibilidade do modelo\n",
    "    sensibilidade = a / (a + c)\n",
    "    print(\"Sensibilidade:\", sensibilidade)\n",
    "\n",
    "    ##Calculando a especificidade do modelo\n",
    "    especificidade = d / (b + d)\n",
    "    print(\"Especificidade:\", especificidade)\n",
    "\n",
    "    ##Calculando a área sob a curva ROC\n",
    "    roc_auc = roc_auc_score(y_test, y_pred)\n",
    "    print(\"Área sob a curva ROC:\", roc_auc)\n",
    "\n",
    "    ##Gerando o gráfico da área sob a curva ROC\n",
    "    fpr, tpr, _ = metrics.roc_curve(y_test, y_pred)\n",
    "    plt.title('Receiver Operating Characteristic')\n",
    "    plt.plot(fpr, tpr, 'b', label = 'AUC = %0.3f' % roc_auc)\n",
    "    plt.legend(loc = 'lower right')\n",
    "    plt.plot([0, 1], [0, 1],'r--')\n",
    "    plt.xlim([0, 1])\n",
    "    plt.ylim([0, 1])\n",
    "    plt.ylabel('True Positive Rate')\n",
    "    plt.xlabel('False Positive Rate')\n",
    "    plt.show()\n",
    "\n",
    "    #Gerando a base de predição:\n",
    "    #RC_y_pred_mean_drop_replacing = RC_mean_drop_replacing.predict(session_test_X_mean_drop_replacing)"
   ]
  },
  {
   "cell_type": "code",
   "execution_count": 57,
   "metadata": {},
   "outputs": [
    {
     "name": "stdout",
     "output_type": "stream",
     "text": [
      "Matriz de Confusão (linhas = real | colunas = previsto):\n",
      "       1     0\n",
      "1  1109  1207\n",
      "0   542  2142\n",
      "Acuracia: 0.6502\n",
      "Precisão: 0.6717141126589945\n",
      "Sensibilidade: 0.4788428324697755\n",
      "Especificidade: 0.7980625931445604\n",
      "Área sob a curva ROC: 0.638452712807168\n"
     ]
    },
    {
     "data": {
      "image/png": "[encoded data removed]",
      "text/plain": [
       "<Figure size 432x288 with 1 Axes>"
      ]
     },
     "metadata": {
      "needs_background": "light"
     },
     "output_type": "display_data"
    }
   ],
   "source": [
    "#Classificador Random Forest\n",
    "## Para session_train_mean_replacing\n",
    "\n",
    "#DATA MINING\n",
    "#RC_mean_replacing = RandomForestClassifier(n_estimators=100, max_features=10)\n",
    "#RC_mean_replacing.fit(session_train_X_mean_replacing, session_train_y_mean_replacing.order.to_numpy())\n",
    "\n",
    "#CROSS-VALIDATION\n",
    "X = session_train_X_mean_replacing\n",
    "y = session_train_y_mean_replacing\n",
    "kf = KFold(n_splits=10, random_state=42, shuffle=True)\n",
    "for train_index, test_index in kf.split(X):\n",
    "    X_train, X_test = X.iloc[train_index], X.iloc[test_index]\n",
    "    y_train, y_test = y.iloc[train_index], y.iloc[test_index]\n",
    "\n",
    "    #DATA MINING\n",
    "    RC_mean_replacing = RandomForestClassifier(n_estimators=100, max_features=10)\n",
    "    RC_mean_replacing.fit(X_train, y_train.order.to_numpy())\n",
    "\n",
    "    #AVALIAÇÃO\n",
    "    #Passo 1: Recuperar a resposta do modelo para o conjunto de teste e armazenar em um vetor\n",
    "    y_pred = RC_mean_drop_replacing.predict(X_test)\n",
    "\n",
    "    #Passo 2: Gerar a Matriz de Confusão (linhas = real | colunas = previsto)\n",
    "    cm = confusion_matrix(y_test, y_pred)\n",
    "    df_cm = pd.DataFrame(cm)\n",
    "\n",
    "    ##Mudandando a ordem para vir primeiro 1 e depois 0\n",
    "    df_cm = df_cm[[1, 0]]\n",
    "    df_cm = df_cm.sort_index( ascending = False )\n",
    "    print(\"Matriz de Confusão (linhas = real | colunas = previsto):\\n\", df_cm)\n",
    "\n",
    "    #Passo 3: Recuperar os valores da matriz de confusão\n",
    "    # Verdadeiro positivo\n",
    "    a = df_cm.iloc[0,0]\n",
    "    # Falso positivo\n",
    "    b = df_cm.iloc[1,0]\n",
    "    # Falso negativo\n",
    "    c = df_cm.iloc[0, 1]\n",
    "    # Verdadeiro negativo\n",
    "    d = df_cm.iloc[1, 1]\n",
    "\n",
    "    ##Calculando a acurácia do modelo\n",
    "    acuracia = (a + d) / (a + b + c + d)\n",
    "    print(\"Acuracia:\", acuracia)\n",
    "\n",
    "    ##Calculando a precisão do modelo\n",
    "    precisao = a / (a + b)\n",
    "    print(\"Precisão:\", precisao)\n",
    "\n",
    "    ##Calculando a sensibilidade do modelo\n",
    "    sensibilidade = a / (a + c)\n",
    "    print(\"Sensibilidade:\", sensibilidade)\n",
    "\n",
    "    ##Calculando a especificidade do modelo\n",
    "    especificidade = d / (b + d)\n",
    "    print(\"Especificidade:\", especificidade)\n",
    "\n",
    "    ##Calculando a área sob a curva ROC\n",
    "    roc_auc = roc_auc_score(y_test, y_pred)\n",
    "    print(\"Área sob a curva ROC:\", roc_auc)\n",
    "\n",
    "    ##Gerando o gráfico da área sob a curva ROC\n",
    "    fpr, tpr, _ = metrics.roc_curve(y_test, y_pred)\n",
    "    plt.title('Receiver Operating Characteristic')\n",
    "    plt.plot(fpr, tpr, 'b', label = 'AUC = %0.3f' % roc_auc)\n",
    "    plt.legend(loc = 'lower right')\n",
    "    plt.plot([0, 1], [0, 1],'r--')\n",
    "    plt.xlim([0, 1])\n",
    "    plt.ylim([0, 1])\n",
    "    plt.ylabel('True Positive Rate')\n",
    "    plt.xlabel('False Positive Rate')\n",
    "    plt.show()\n",
    "\n",
    "    #Gerando a base de predição:\n",
    "    #RC_y_pred_mean_replacing = RC_mean_replacing.predict(session_test_X_mean_replacing)"
   ]
  },
  {
   "cell_type": "code",
   "execution_count": 34,
   "metadata": {},
   "outputs": [
    {
     "name": "stdout",
     "output_type": "stream",
     "text": [
      "Matriz de Confusão (linhas = real | colunas = previsto):\n",
      "       1     0\n",
      "1  2229    87\n",
      "0   142  2542\n",
      "Acuracia: 0.9542\n",
      "Precisão: 0.9401096583719949\n",
      "Sensibilidade: 0.9624352331606217\n",
      "Especificidade: 0.9470938897168405\n",
      "Área sob a curva ROC: 0.9547645614387311\n"
     ]
    },
    {
     "data": {
      "image/png": "[encoded data removed]",
      "text/plain": [
       "<Figure size 432x288 with 1 Axes>"
      ]
     },
     "metadata": {
      "needs_background": "light"
     },
     "output_type": "display_data"
    }
   ],
   "source": [
    "#Classificador Random Forest\n",
    "## Para session_train_median_replacing\n",
    "\n",
    "#DATA MINING\n",
    "#RC_median_replacing = RandomForestClassifier(n_estimators=100, max_features=10)\n",
    "#RC_median_replacing.fit(session_train_X_median_replacing, session_train_y_median_replacing.order.to_numpy())\n",
    "\n",
    "    #CROSS-VALIDATION\n",
    "    X = session_train_X_median_replacing\n",
    "    y = session_train_y_median_replacing\n",
    "    kf = KFold(n_splits=10, random_state=42, shuffle=True)\n",
    "    for train_index, test_index in kf.split(X):\n",
    "        X_train, X_test = X.iloc[train_index], X.iloc[test_index]\n",
    "        y_train, y_test = y.iloc[train_index], y.iloc[test_index]\n",
    "\n",
    "    #DATA MINING\n",
    "    RC_median_replacing = RandomForestClassifier(n_estimators=100, max_features=10)\n",
    "    RC_median_replacing.fit(X_train, y_train.order.to_numpy())\n",
    "\n",
    "    #AVALIAÇÃO\n",
    "    #Passo 1: Recuperar a resposta do modelo para o conjunto de teste e armazenar em um vetor\n",
    "    y_pred = RC_mean_drop_replacing.predict(X_test)\n",
    "\n",
    "    #Passo 2: Gerar a Matriz de Confusão (linhas = real | colunas = previsto)\n",
    "    cm = confusion_matrix(y_test, y_pred)\n",
    "    df_cm = pd.DataFrame(cm)\n",
    "\n",
    "    ##Mudandando a ordem para vir primeiro 1 e depois 0\n",
    "    df_cm = df_cm[[1, 0]]\n",
    "    df_cm = df_cm.sort_index( ascending = False )\n",
    "    print(\"Matriz de Confusão (linhas = real | colunas = previsto):\\n\", df_cm)\n",
    "\n",
    "    #Passo 3: Recuperar os valores da matriz de confusão\n",
    "    # Verdadeiro positivo\n",
    "    a = df_cm.iloc[0,0]\n",
    "    # Falso positivo\n",
    "    b = df_cm.iloc[1,0]\n",
    "    # Falso negativo\n",
    "    c = df_cm.iloc[0, 1]\n",
    "    # Verdadeiro negativo\n",
    "    d = df_cm.iloc[1, 1]\n",
    "\n",
    "    ##Calculando a acurácia do modelo\n",
    "    acuracia = (a + d) / (a + b + c + d)\n",
    "    print(\"Acuracia:\", acuracia)\n",
    "\n",
    "    ##Calculando a precisão do modelo\n",
    "    precisao = a / (a + b)\n",
    "    print(\"Precisão:\", precisao)\n",
    "\n",
    "    ##Calculando a sensibilidade do modelo\n",
    "    sensibilidade = a / (a + c)\n",
    "    print(\"Sensibilidade:\", sensibilidade)\n",
    "\n",
    "    ##Calculando a especificidade do modelo\n",
    "    especificidade = d / (b + d)\n",
    "    print(\"Especificidade:\", especificidade)\n",
    "\n",
    "    ##Calculando a área sob a curva ROC\n",
    "    roc_auc = roc_auc_score(y_test, y_pred)\n",
    "    print(\"Área sob a curva ROC:\", roc_auc)\n",
    "\n",
    "    ##Gerando o gráfico da área sob a curva ROC\n",
    "    fpr, tpr, _ = metrics.roc_curve(y_test, y_pred)\n",
    "    plt.title('Receiver Operating Characteristic')\n",
    "    plt.plot(fpr, tpr, 'b', label = 'AUC = %0.3f' % roc_auc)\n",
    "    plt.legend(loc = 'lower right')\n",
    "    plt.plot([0, 1], [0, 1],'r--')\n",
    "    plt.xlim([0, 1])\n",
    "    plt.ylim([0, 1])\n",
    "    plt.ylabel('True Positive Rate')\n",
    "    plt.xlabel('False Positive Rate')\n",
    "    plt.show()\n",
    "\n",
    "    #Gerando a base de predição:\n",
    "    #RC_y_pred_median_replacing = RC_median_replacing.predict(session_test_X_median_replacing)"
   ]
  },
  {
   "cell_type": "code",
   "execution_count": 35,
   "metadata": {},
   "outputs": [
    {
     "name": "stdout",
     "output_type": "stream",
     "text": [
      "Matriz de Confusão (linhas = real | colunas = previsto):\n",
      "       1     0\n",
      "1  2130   186\n",
      "0   301  2383\n",
      "Acuracia: 0.9026\n",
      "Precisão: 0.8761826408885233\n",
      "Sensibilidade: 0.9196891191709845\n",
      "Especificidade: 0.8878539493293591\n",
      "Área sob a curva ROC: 0.9037715342501719\n"
     ]
    },
    {
     "data": {
      "image/png": "[encoded data removed]",
      "text/plain": [
       "<Figure size 432x288 with 1 Axes>"
      ]
     },
     "metadata": {
      "needs_background": "light"
     },
     "output_type": "display_data"
    }
   ],
   "source": [
    "#Classificador Random Forest\n",
    "## Para session_train_min_replacing\n",
    "\n",
    "#DATA MINING\n",
    "#RC_min_replacing = RandomForestClassifier(n_estimators=100, max_features=10)\n",
    "#RC_min_replacing.fit(session_train_X_min_replacing, session_train_y_min_replacing.order.to_numpy())\n",
    "\n",
    "#CROSS-VALIDATION\n",
    "X = session_train_X_min_replacing\n",
    "y = session_train_y_min_replacing\n",
    "kf = KFold(n_splits=10, random_state=42, shuffle=True)\n",
    "for train_index, test_index in kf.split(X):\n",
    "    X_train, X_test = X.iloc[train_index], X.iloc[test_index]\n",
    "    y_train, y_test = y.iloc[train_index], y.iloc[test_index]\n",
    "\n",
    "    #DATA MINING\n",
    "    RC_min_replacing = RandomForestClassifier(n_estimators=100, max_features=10)\n",
    "    RC_min_replacing.fit(X_train, y_train.order.to_numpy())\n",
    "\n",
    "    #AVALIAÇÃO\n",
    "    #Passo 1: Recuperar a resposta do modelo para o conjunto de teste e armazenar em um vetor\n",
    "    y_pred = RC_mean_drop_replacing.predict(X_test)\n",
    "\n",
    "    #Passo 2: Gerar a Matriz de Confusão (linhas = real | colunas = previsto)\n",
    "    cm = confusion_matrix(y_test, y_pred)\n",
    "    df_cm = pd.DataFrame(cm)\n",
    "\n",
    "    ##Mudandando a ordem para vir primeiro 1 e depois 0\n",
    "    df_cm = df_cm[[1, 0]]\n",
    "    df_cm = df_cm.sort_index( ascending = False )\n",
    "    print(\"Matriz de Confusão (linhas = real | colunas = previsto):\\n\", df_cm)\n",
    "\n",
    "    #Passo 3: Recuperar os valores da matriz de confusão\n",
    "    # Verdadeiro positivo\n",
    "    a = df_cm.iloc[0,0]\n",
    "    # Falso positivo\n",
    "    b = df_cm.iloc[1,0]\n",
    "    # Falso negativo\n",
    "    c = df_cm.iloc[0, 1]\n",
    "    # Verdadeiro negativo\n",
    "    d = df_cm.iloc[1, 1]\n",
    "\n",
    "    ##Calculando a acurácia do modelo\n",
    "    acuracia = (a + d) / (a + b + c + d)\n",
    "    print(\"Acuracia:\", acuracia)\n",
    "\n",
    "    ##Calculando a precisão do modelo\n",
    "    precisao = a / (a + b)\n",
    "    print(\"Precisão:\", precisao)\n",
    "\n",
    "    ##Calculando a sensibilidade do modelo\n",
    "    sensibilidade = a / (a + c)\n",
    "    print(\"Sensibilidade:\", sensibilidade)\n",
    "\n",
    "    ##Calculando a especificidade do modelo\n",
    "    especificidade = d / (b + d)\n",
    "    print(\"Especificidade:\", especificidade)\n",
    "\n",
    "    ##Calculando a área sob a curva ROC\n",
    "    roc_auc = roc_auc_score(y_test, y_pred)\n",
    "    print(\"Área sob a curva ROC:\", roc_auc)\n",
    "\n",
    "    ##Gerando o gráfico da área sob a curva ROC\n",
    "    fpr, tpr, _ = metrics.roc_curve(y_test, y_pred)\n",
    "    plt.title('Receiver Operating Characteristic')\n",
    "    plt.plot(fpr, tpr, 'b', label = 'AUC = %0.3f' % roc_auc)\n",
    "    plt.legend(loc = 'lower right')\n",
    "    plt.plot([0, 1], [0, 1],'r--')\n",
    "    plt.xlim([0, 1])\n",
    "    plt.ylim([0, 1])\n",
    "    plt.ylabel('True Positive Rate')\n",
    "    plt.xlabel('False Positive Rate')\n",
    "    plt.show()\n",
    "\n",
    "    #Gerando a base de predição:\n",
    "    #RC_y_pred_min_replacing = RC_min_replacing.predict(session_test_X_min_replacing)"
   ]
  },
  {
   "cell_type": "markdown",
   "metadata": {},
   "source": [
    "### Classificador Rede Neural MLP"
   ]
  },
  {
   "cell_type": "markdown",
   "metadata": {},
   "source": [
    "### Para session_train_mean_drop_replacing"
   ]
  },
  {
   "cell_type": "code",
   "execution_count": 49,
   "metadata": {},
   "outputs": [],
   "source": [
    "#Classificador Rede Neural MLP\n",
    "## Para session_train_min_replacing\n",
    "\n",
    "# Criar o modelo\n",
    "input_neuron, hidden_neuron, output_neuron = 8, 3, 1\n",
    "\n",
    "mlp = Sequential([                  \n",
    "    InputLayer(input_neuron),\n",
    "    Dense(hidden_neuron, activation=\"relu\"),\n",
    "    Dense(output_neuron, activation=\"sigmoid\")\n",
    "])"
   ]
  },
  {
   "cell_type": "code",
   "execution_count": 50,
   "metadata": {},
   "outputs": [
    {
     "name": "stdout",
     "output_type": "stream",
     "text": [
      "Model: \"sequential_2\"\n",
      "_________________________________________________________________\n",
      "Layer (type)                 Output Shape              Param #   \n",
      "=================================================================\n",
      "dense_4 (Dense)              (None, 3)                 27        \n",
      "_________________________________________________________________\n",
      "dense_5 (Dense)              (None, 1)                 4         \n",
      "=================================================================\n",
      "Total params: 31\n",
      "Trainable params: 31\n",
      "Non-trainable params: 0\n",
      "_________________________________________________________________\n"
     ]
    }
   ],
   "source": [
    "# Usar a função summary()\n",
    "mlp.summary()"
   ]
  },
  {
   "cell_type": "code",
   "execution_count": 51,
   "metadata": {},
   "outputs": [],
   "source": [
    "# Compile o modelo\n",
    "mlp.compile(optimizer=\"adam\", loss=\"binary_crossentropy\")"
   ]
  },
  {
   "cell_type": "code",
   "execution_count": 55,
   "metadata": {},
   "outputs": [
    {
     "name": "stdout",
     "output_type": "stream",
     "text": [
      "Epoch 1/200\n"
     ]
    },
    {
     "ename": "ValueError",
     "evalue": "in user code:\n\n    c:\\users\\anisi\\documents\\univasf - engenharia de computação\\20.2 - inteligência computacional\\projetos\\projeto 02\\prediction-of-orders-dmc\\.virtualenv\\lib\\site-packages\\keras\\engine\\training.py:853 train_function  *\n        return step_function(self, iterator)\n    c:\\users\\anisi\\documents\\univasf - engenharia de computação\\20.2 - inteligência computacional\\projetos\\projeto 02\\prediction-of-orders-dmc\\.virtualenv\\lib\\site-packages\\keras\\engine\\training.py:842 step_function  **\n        outputs = model.distribute_strategy.run(run_step, args=(data,))\n    c:\\users\\anisi\\documents\\univasf - engenharia de computação\\20.2 - inteligência computacional\\projetos\\projeto 02\\prediction-of-orders-dmc\\.virtualenv\\lib\\site-packages\\tensorflow\\python\\distribute\\distribute_lib.py:1286 run\n        return self._extended.call_for_each_replica(fn, args=args, kwargs=kwargs)\n    c:\\users\\anisi\\documents\\univasf - engenharia de computação\\20.2 - inteligência computacional\\projetos\\projeto 02\\prediction-of-orders-dmc\\.virtualenv\\lib\\site-packages\\tensorflow\\python\\distribute\\distribute_lib.py:2849 call_for_each_replica\n        return self._call_for_each_replica(fn, args, kwargs)\n    c:\\users\\anisi\\documents\\univasf - engenharia de computação\\20.2 - inteligência computacional\\projetos\\projeto 02\\prediction-of-orders-dmc\\.virtualenv\\lib\\site-packages\\tensorflow\\python\\distribute\\distribute_lib.py:3632 _call_for_each_replica\n        return fn(*args, **kwargs)\n    c:\\users\\anisi\\documents\\univasf - engenharia de computação\\20.2 - inteligência computacional\\projetos\\projeto 02\\prediction-of-orders-dmc\\.virtualenv\\lib\\site-packages\\keras\\engine\\training.py:835 run_step  **\n        outputs = model.train_step(data)\n    c:\\users\\anisi\\documents\\univasf - engenharia de computação\\20.2 - inteligência computacional\\projetos\\projeto 02\\prediction-of-orders-dmc\\.virtualenv\\lib\\site-packages\\keras\\engine\\training.py:787 train_step\n        y_pred = self(x, training=True)\n    c:\\users\\anisi\\documents\\univasf - engenharia de computação\\20.2 - inteligência computacional\\projetos\\projeto 02\\prediction-of-orders-dmc\\.virtualenv\\lib\\site-packages\\keras\\engine\\base_layer.py:1020 __call__\n        input_spec.assert_input_compatibility(self.input_spec, inputs, self.name)\n    c:\\users\\anisi\\documents\\univasf - engenharia de computação\\20.2 - inteligência computacional\\projetos\\projeto 02\\prediction-of-orders-dmc\\.virtualenv\\lib\\site-packages\\keras\\engine\\input_spec.py:250 assert_input_compatibility\n        raise ValueError(\n\n    ValueError: Input 0 of layer sequential_4 is incompatible with the layer: expected axis -1 of input shape to have value 8 but received input with shape (None, 33)\n",
     "output_type": "error",
     "traceback": [
      "\u001b[1;31m---------------------------------------------------------------------------\u001b[0m",
      "\u001b[1;31mValueError\u001b[0m                                Traceback (most recent call last)",
      "\u001b[1;32m~\\AppData\\Local\\Temp/ipykernel_1648/197865531.py\u001b[0m in \u001b[0;36m<module>\u001b[1;34m\u001b[0m\n\u001b[0;32m     26\u001b[0m     \u001b[1;31m# Treine o modelo\u001b[0m\u001b[1;33m\u001b[0m\u001b[1;33m\u001b[0m\u001b[1;33m\u001b[0m\u001b[0m\n\u001b[0;32m     27\u001b[0m     \u001b[0mbatch_size\u001b[0m \u001b[1;33m=\u001b[0m \u001b[1;36m16\u001b[0m\u001b[1;33m\u001b[0m\u001b[1;33m\u001b[0m\u001b[0m\n\u001b[1;32m---> 28\u001b[1;33m     \u001b[0mLog_mean_drop_replacing\u001b[0m \u001b[1;33m=\u001b[0m \u001b[0mmlp\u001b[0m\u001b[1;33m.\u001b[0m\u001b[0mfit\u001b[0m\u001b[1;33m(\u001b[0m\u001b[0mX_train\u001b[0m\u001b[1;33m,\u001b[0m \u001b[0my_train\u001b[0m\u001b[1;33m.\u001b[0m\u001b[0morder\u001b[0m\u001b[1;33m.\u001b[0m\u001b[0mto_numpy\u001b[0m\u001b[1;33m(\u001b[0m\u001b[1;33m)\u001b[0m\u001b[1;33m,\u001b[0m \u001b[0mbatch_size\u001b[0m\u001b[1;33m=\u001b[0m\u001b[0mbatch_size\u001b[0m\u001b[1;33m,\u001b[0m \u001b[0mepochs\u001b[0m\u001b[1;33m=\u001b[0m\u001b[1;36m200\u001b[0m\u001b[1;33m)\u001b[0m\u001b[1;33m\u001b[0m\u001b[1;33m\u001b[0m\u001b[0m\n\u001b[0m\u001b[0;32m     29\u001b[0m \u001b[1;33m\u001b[0m\u001b[0m\n\u001b[0;32m     30\u001b[0m \u001b[1;33m\u001b[0m\u001b[0m\n",
      "\u001b[1;32mc:\\users\\anisi\\documents\\univasf - engenharia de computação\\20.2 - inteligência computacional\\projetos\\projeto 02\\prediction-of-orders-dmc\\.virtualenv\\lib\\site-packages\\keras\\engine\\training.py\u001b[0m in \u001b[0;36mfit\u001b[1;34m(self, x, y, batch_size, epochs, verbose, callbacks, validation_split, validation_data, shuffle, class_weight, sample_weight, initial_epoch, steps_per_epoch, validation_steps, validation_batch_size, validation_freq, max_queue_size, workers, use_multiprocessing)\u001b[0m\n\u001b[0;32m   1182\u001b[0m                 _r=1):\n\u001b[0;32m   1183\u001b[0m               \u001b[0mcallbacks\u001b[0m\u001b[1;33m.\u001b[0m\u001b[0mon_train_batch_begin\u001b[0m\u001b[1;33m(\u001b[0m\u001b[0mstep\u001b[0m\u001b[1;33m)\u001b[0m\u001b[1;33m\u001b[0m\u001b[1;33m\u001b[0m\u001b[0m\n\u001b[1;32m-> 1184\u001b[1;33m               \u001b[0mtmp_logs\u001b[0m \u001b[1;33m=\u001b[0m \u001b[0mself\u001b[0m\u001b[1;33m.\u001b[0m\u001b[0mtrain_function\u001b[0m\u001b[1;33m(\u001b[0m\u001b[0miterator\u001b[0m\u001b[1;33m)\u001b[0m\u001b[1;33m\u001b[0m\u001b[1;33m\u001b[0m\u001b[0m\n\u001b[0m\u001b[0;32m   1185\u001b[0m               \u001b[1;32mif\u001b[0m \u001b[0mdata_handler\u001b[0m\u001b[1;33m.\u001b[0m\u001b[0mshould_sync\u001b[0m\u001b[1;33m:\u001b[0m\u001b[1;33m\u001b[0m\u001b[1;33m\u001b[0m\u001b[0m\n\u001b[0;32m   1186\u001b[0m                 \u001b[0mcontext\u001b[0m\u001b[1;33m.\u001b[0m\u001b[0masync_wait\u001b[0m\u001b[1;33m(\u001b[0m\u001b[1;33m)\u001b[0m\u001b[1;33m\u001b[0m\u001b[1;33m\u001b[0m\u001b[0m\n",
      "\u001b[1;32mc:\\users\\anisi\\documents\\univasf - engenharia de computação\\20.2 - inteligência computacional\\projetos\\projeto 02\\prediction-of-orders-dmc\\.virtualenv\\lib\\site-packages\\tensorflow\\python\\eager\\def_function.py\u001b[0m in \u001b[0;36m__call__\u001b[1;34m(self, *args, **kwds)\u001b[0m\n\u001b[0;32m    883\u001b[0m \u001b[1;33m\u001b[0m\u001b[0m\n\u001b[0;32m    884\u001b[0m       \u001b[1;32mwith\u001b[0m \u001b[0mOptionalXlaContext\u001b[0m\u001b[1;33m(\u001b[0m\u001b[0mself\u001b[0m\u001b[1;33m.\u001b[0m\u001b[0m_jit_compile\u001b[0m\u001b[1;33m)\u001b[0m\u001b[1;33m:\u001b[0m\u001b[1;33m\u001b[0m\u001b[1;33m\u001b[0m\u001b[0m\n\u001b[1;32m--> 885\u001b[1;33m         \u001b[0mresult\u001b[0m \u001b[1;33m=\u001b[0m \u001b[0mself\u001b[0m\u001b[1;33m.\u001b[0m\u001b[0m_call\u001b[0m\u001b[1;33m(\u001b[0m\u001b[1;33m*\u001b[0m\u001b[0margs\u001b[0m\u001b[1;33m,\u001b[0m \u001b[1;33m**\u001b[0m\u001b[0mkwds\u001b[0m\u001b[1;33m)\u001b[0m\u001b[1;33m\u001b[0m\u001b[1;33m\u001b[0m\u001b[0m\n\u001b[0m\u001b[0;32m    886\u001b[0m \u001b[1;33m\u001b[0m\u001b[0m\n\u001b[0;32m    887\u001b[0m       \u001b[0mnew_tracing_count\u001b[0m \u001b[1;33m=\u001b[0m \u001b[0mself\u001b[0m\u001b[1;33m.\u001b[0m\u001b[0mexperimental_get_tracing_count\u001b[0m\u001b[1;33m(\u001b[0m\u001b[1;33m)\u001b[0m\u001b[1;33m\u001b[0m\u001b[1;33m\u001b[0m\u001b[0m\n",
      "\u001b[1;32mc:\\users\\anisi\\documents\\univasf - engenharia de computação\\20.2 - inteligência computacional\\projetos\\projeto 02\\prediction-of-orders-dmc\\.virtualenv\\lib\\site-packages\\tensorflow\\python\\eager\\def_function.py\u001b[0m in \u001b[0;36m_call\u001b[1;34m(self, *args, **kwds)\u001b[0m\n\u001b[0;32m    931\u001b[0m       \u001b[1;31m# This is the first call of __call__, so we have to initialize.\u001b[0m\u001b[1;33m\u001b[0m\u001b[1;33m\u001b[0m\u001b[1;33m\u001b[0m\u001b[0m\n\u001b[0;32m    932\u001b[0m       \u001b[0minitializers\u001b[0m \u001b[1;33m=\u001b[0m \u001b[1;33m[\u001b[0m\u001b[1;33m]\u001b[0m\u001b[1;33m\u001b[0m\u001b[1;33m\u001b[0m\u001b[0m\n\u001b[1;32m--> 933\u001b[1;33m       \u001b[0mself\u001b[0m\u001b[1;33m.\u001b[0m\u001b[0m_initialize\u001b[0m\u001b[1;33m(\u001b[0m\u001b[0margs\u001b[0m\u001b[1;33m,\u001b[0m \u001b[0mkwds\u001b[0m\u001b[1;33m,\u001b[0m \u001b[0madd_initializers_to\u001b[0m\u001b[1;33m=\u001b[0m\u001b[0minitializers\u001b[0m\u001b[1;33m)\u001b[0m\u001b[1;33m\u001b[0m\u001b[1;33m\u001b[0m\u001b[0m\n\u001b[0m\u001b[0;32m    934\u001b[0m     \u001b[1;32mfinally\u001b[0m\u001b[1;33m:\u001b[0m\u001b[1;33m\u001b[0m\u001b[1;33m\u001b[0m\u001b[0m\n\u001b[0;32m    935\u001b[0m       \u001b[1;31m# At this point we know that the initialization is complete (or less\u001b[0m\u001b[1;33m\u001b[0m\u001b[1;33m\u001b[0m\u001b[1;33m\u001b[0m\u001b[0m\n",
      "\u001b[1;32mc:\\users\\anisi\\documents\\univasf - engenharia de computação\\20.2 - inteligência computacional\\projetos\\projeto 02\\prediction-of-orders-dmc\\.virtualenv\\lib\\site-packages\\tensorflow\\python\\eager\\def_function.py\u001b[0m in \u001b[0;36m_initialize\u001b[1;34m(self, args, kwds, add_initializers_to)\u001b[0m\n\u001b[0;32m    757\u001b[0m     \u001b[0mself\u001b[0m\u001b[1;33m.\u001b[0m\u001b[0m_graph_deleter\u001b[0m \u001b[1;33m=\u001b[0m \u001b[0mFunctionDeleter\u001b[0m\u001b[1;33m(\u001b[0m\u001b[0mself\u001b[0m\u001b[1;33m.\u001b[0m\u001b[0m_lifted_initializer_graph\u001b[0m\u001b[1;33m)\u001b[0m\u001b[1;33m\u001b[0m\u001b[1;33m\u001b[0m\u001b[0m\n\u001b[0;32m    758\u001b[0m     self._concrete_stateful_fn = (\n\u001b[1;32m--> 759\u001b[1;33m         self._stateful_fn._get_concrete_function_internal_garbage_collected(  # pylint: disable=protected-access\n\u001b[0m\u001b[0;32m    760\u001b[0m             *args, **kwds))\n\u001b[0;32m    761\u001b[0m \u001b[1;33m\u001b[0m\u001b[0m\n",
      "\u001b[1;32mc:\\users\\anisi\\documents\\univasf - engenharia de computação\\20.2 - inteligência computacional\\projetos\\projeto 02\\prediction-of-orders-dmc\\.virtualenv\\lib\\site-packages\\tensorflow\\python\\eager\\function.py\u001b[0m in \u001b[0;36m_get_concrete_function_internal_garbage_collected\u001b[1;34m(self, *args, **kwargs)\u001b[0m\n\u001b[0;32m   3064\u001b[0m       \u001b[0margs\u001b[0m\u001b[1;33m,\u001b[0m \u001b[0mkwargs\u001b[0m \u001b[1;33m=\u001b[0m \u001b[1;32mNone\u001b[0m\u001b[1;33m,\u001b[0m \u001b[1;32mNone\u001b[0m\u001b[1;33m\u001b[0m\u001b[1;33m\u001b[0m\u001b[0m\n\u001b[0;32m   3065\u001b[0m     \u001b[1;32mwith\u001b[0m \u001b[0mself\u001b[0m\u001b[1;33m.\u001b[0m\u001b[0m_lock\u001b[0m\u001b[1;33m:\u001b[0m\u001b[1;33m\u001b[0m\u001b[1;33m\u001b[0m\u001b[0m\n\u001b[1;32m-> 3066\u001b[1;33m       \u001b[0mgraph_function\u001b[0m\u001b[1;33m,\u001b[0m \u001b[0m_\u001b[0m \u001b[1;33m=\u001b[0m \u001b[0mself\u001b[0m\u001b[1;33m.\u001b[0m\u001b[0m_maybe_define_function\u001b[0m\u001b[1;33m(\u001b[0m\u001b[0margs\u001b[0m\u001b[1;33m,\u001b[0m \u001b[0mkwargs\u001b[0m\u001b[1;33m)\u001b[0m\u001b[1;33m\u001b[0m\u001b[1;33m\u001b[0m\u001b[0m\n\u001b[0m\u001b[0;32m   3067\u001b[0m     \u001b[1;32mreturn\u001b[0m \u001b[0mgraph_function\u001b[0m\u001b[1;33m\u001b[0m\u001b[1;33m\u001b[0m\u001b[0m\n\u001b[0;32m   3068\u001b[0m \u001b[1;33m\u001b[0m\u001b[0m\n",
      "\u001b[1;32mc:\\users\\anisi\\documents\\univasf - engenharia de computação\\20.2 - inteligência computacional\\projetos\\projeto 02\\prediction-of-orders-dmc\\.virtualenv\\lib\\site-packages\\tensorflow\\python\\eager\\function.py\u001b[0m in \u001b[0;36m_maybe_define_function\u001b[1;34m(self, args, kwargs)\u001b[0m\n\u001b[0;32m   3461\u001b[0m \u001b[1;33m\u001b[0m\u001b[0m\n\u001b[0;32m   3462\u001b[0m           \u001b[0mself\u001b[0m\u001b[1;33m.\u001b[0m\u001b[0m_function_cache\u001b[0m\u001b[1;33m.\u001b[0m\u001b[0mmissed\u001b[0m\u001b[1;33m.\u001b[0m\u001b[0madd\u001b[0m\u001b[1;33m(\u001b[0m\u001b[0mcall_context_key\u001b[0m\u001b[1;33m)\u001b[0m\u001b[1;33m\u001b[0m\u001b[1;33m\u001b[0m\u001b[0m\n\u001b[1;32m-> 3463\u001b[1;33m           \u001b[0mgraph_function\u001b[0m \u001b[1;33m=\u001b[0m \u001b[0mself\u001b[0m\u001b[1;33m.\u001b[0m\u001b[0m_create_graph_function\u001b[0m\u001b[1;33m(\u001b[0m\u001b[0margs\u001b[0m\u001b[1;33m,\u001b[0m \u001b[0mkwargs\u001b[0m\u001b[1;33m)\u001b[0m\u001b[1;33m\u001b[0m\u001b[1;33m\u001b[0m\u001b[0m\n\u001b[0m\u001b[0;32m   3464\u001b[0m           \u001b[0mself\u001b[0m\u001b[1;33m.\u001b[0m\u001b[0m_function_cache\u001b[0m\u001b[1;33m.\u001b[0m\u001b[0mprimary\u001b[0m\u001b[1;33m[\u001b[0m\u001b[0mcache_key\u001b[0m\u001b[1;33m]\u001b[0m \u001b[1;33m=\u001b[0m \u001b[0mgraph_function\u001b[0m\u001b[1;33m\u001b[0m\u001b[1;33m\u001b[0m\u001b[0m\n\u001b[0;32m   3465\u001b[0m \u001b[1;33m\u001b[0m\u001b[0m\n",
      "\u001b[1;32mc:\\users\\anisi\\documents\\univasf - engenharia de computação\\20.2 - inteligência computacional\\projetos\\projeto 02\\prediction-of-orders-dmc\\.virtualenv\\lib\\site-packages\\tensorflow\\python\\eager\\function.py\u001b[0m in \u001b[0;36m_create_graph_function\u001b[1;34m(self, args, kwargs, override_flat_arg_shapes)\u001b[0m\n\u001b[0;32m   3296\u001b[0m     \u001b[0marg_names\u001b[0m \u001b[1;33m=\u001b[0m \u001b[0mbase_arg_names\u001b[0m \u001b[1;33m+\u001b[0m \u001b[0mmissing_arg_names\u001b[0m\u001b[1;33m\u001b[0m\u001b[1;33m\u001b[0m\u001b[0m\n\u001b[0;32m   3297\u001b[0m     graph_function = ConcreteFunction(\n\u001b[1;32m-> 3298\u001b[1;33m         func_graph_module.func_graph_from_py_func(\n\u001b[0m\u001b[0;32m   3299\u001b[0m             \u001b[0mself\u001b[0m\u001b[1;33m.\u001b[0m\u001b[0m_name\u001b[0m\u001b[1;33m,\u001b[0m\u001b[1;33m\u001b[0m\u001b[1;33m\u001b[0m\u001b[0m\n\u001b[0;32m   3300\u001b[0m             \u001b[0mself\u001b[0m\u001b[1;33m.\u001b[0m\u001b[0m_python_function\u001b[0m\u001b[1;33m,\u001b[0m\u001b[1;33m\u001b[0m\u001b[1;33m\u001b[0m\u001b[0m\n",
      "\u001b[1;32mc:\\users\\anisi\\documents\\univasf - engenharia de computação\\20.2 - inteligência computacional\\projetos\\projeto 02\\prediction-of-orders-dmc\\.virtualenv\\lib\\site-packages\\tensorflow\\python\\framework\\func_graph.py\u001b[0m in \u001b[0;36mfunc_graph_from_py_func\u001b[1;34m(name, python_func, args, kwargs, signature, func_graph, autograph, autograph_options, add_control_dependencies, arg_names, op_return_value, collections, capture_by_value, override_flat_arg_shapes, acd_record_initial_resource_uses)\u001b[0m\n\u001b[0;32m   1005\u001b[0m         \u001b[0m_\u001b[0m\u001b[1;33m,\u001b[0m \u001b[0moriginal_func\u001b[0m \u001b[1;33m=\u001b[0m \u001b[0mtf_decorator\u001b[0m\u001b[1;33m.\u001b[0m\u001b[0munwrap\u001b[0m\u001b[1;33m(\u001b[0m\u001b[0mpython_func\u001b[0m\u001b[1;33m)\u001b[0m\u001b[1;33m\u001b[0m\u001b[1;33m\u001b[0m\u001b[0m\n\u001b[0;32m   1006\u001b[0m \u001b[1;33m\u001b[0m\u001b[0m\n\u001b[1;32m-> 1007\u001b[1;33m       \u001b[0mfunc_outputs\u001b[0m \u001b[1;33m=\u001b[0m \u001b[0mpython_func\u001b[0m\u001b[1;33m(\u001b[0m\u001b[1;33m*\u001b[0m\u001b[0mfunc_args\u001b[0m\u001b[1;33m,\u001b[0m \u001b[1;33m**\u001b[0m\u001b[0mfunc_kwargs\u001b[0m\u001b[1;33m)\u001b[0m\u001b[1;33m\u001b[0m\u001b[1;33m\u001b[0m\u001b[0m\n\u001b[0m\u001b[0;32m   1008\u001b[0m \u001b[1;33m\u001b[0m\u001b[0m\n\u001b[0;32m   1009\u001b[0m       \u001b[1;31m# invariant: `func_outputs` contains only Tensors, CompositeTensors,\u001b[0m\u001b[1;33m\u001b[0m\u001b[1;33m\u001b[0m\u001b[1;33m\u001b[0m\u001b[0m\n",
      "\u001b[1;32mc:\\users\\anisi\\documents\\univasf - engenharia de computação\\20.2 - inteligência computacional\\projetos\\projeto 02\\prediction-of-orders-dmc\\.virtualenv\\lib\\site-packages\\tensorflow\\python\\eager\\def_function.py\u001b[0m in \u001b[0;36mwrapped_fn\u001b[1;34m(*args, **kwds)\u001b[0m\n\u001b[0;32m    666\u001b[0m         \u001b[1;31m# the function a weak reference to itself to avoid a reference cycle.\u001b[0m\u001b[1;33m\u001b[0m\u001b[1;33m\u001b[0m\u001b[1;33m\u001b[0m\u001b[0m\n\u001b[0;32m    667\u001b[0m         \u001b[1;32mwith\u001b[0m \u001b[0mOptionalXlaContext\u001b[0m\u001b[1;33m(\u001b[0m\u001b[0mcompile_with_xla\u001b[0m\u001b[1;33m)\u001b[0m\u001b[1;33m:\u001b[0m\u001b[1;33m\u001b[0m\u001b[1;33m\u001b[0m\u001b[0m\n\u001b[1;32m--> 668\u001b[1;33m           \u001b[0mout\u001b[0m \u001b[1;33m=\u001b[0m \u001b[0mweak_wrapped_fn\u001b[0m\u001b[1;33m(\u001b[0m\u001b[1;33m)\u001b[0m\u001b[1;33m.\u001b[0m\u001b[0m__wrapped__\u001b[0m\u001b[1;33m(\u001b[0m\u001b[1;33m*\u001b[0m\u001b[0margs\u001b[0m\u001b[1;33m,\u001b[0m \u001b[1;33m**\u001b[0m\u001b[0mkwds\u001b[0m\u001b[1;33m)\u001b[0m\u001b[1;33m\u001b[0m\u001b[1;33m\u001b[0m\u001b[0m\n\u001b[0m\u001b[0;32m    669\u001b[0m         \u001b[1;32mreturn\u001b[0m \u001b[0mout\u001b[0m\u001b[1;33m\u001b[0m\u001b[1;33m\u001b[0m\u001b[0m\n\u001b[0;32m    670\u001b[0m \u001b[1;33m\u001b[0m\u001b[0m\n",
      "\u001b[1;32mc:\\users\\anisi\\documents\\univasf - engenharia de computação\\20.2 - inteligência computacional\\projetos\\projeto 02\\prediction-of-orders-dmc\\.virtualenv\\lib\\site-packages\\tensorflow\\python\\framework\\func_graph.py\u001b[0m in \u001b[0;36mwrapper\u001b[1;34m(*args, **kwargs)\u001b[0m\n\u001b[0;32m    992\u001b[0m           \u001b[1;32mexcept\u001b[0m \u001b[0mException\u001b[0m \u001b[1;32mas\u001b[0m \u001b[0me\u001b[0m\u001b[1;33m:\u001b[0m  \u001b[1;31m# pylint:disable=broad-except\u001b[0m\u001b[1;33m\u001b[0m\u001b[1;33m\u001b[0m\u001b[0m\n\u001b[0;32m    993\u001b[0m             \u001b[1;32mif\u001b[0m \u001b[0mhasattr\u001b[0m\u001b[1;33m(\u001b[0m\u001b[0me\u001b[0m\u001b[1;33m,\u001b[0m \u001b[1;34m\"ag_error_metadata\"\u001b[0m\u001b[1;33m)\u001b[0m\u001b[1;33m:\u001b[0m\u001b[1;33m\u001b[0m\u001b[1;33m\u001b[0m\u001b[0m\n\u001b[1;32m--> 994\u001b[1;33m               \u001b[1;32mraise\u001b[0m \u001b[0me\u001b[0m\u001b[1;33m.\u001b[0m\u001b[0mag_error_metadata\u001b[0m\u001b[1;33m.\u001b[0m\u001b[0mto_exception\u001b[0m\u001b[1;33m(\u001b[0m\u001b[0me\u001b[0m\u001b[1;33m)\u001b[0m\u001b[1;33m\u001b[0m\u001b[1;33m\u001b[0m\u001b[0m\n\u001b[0m\u001b[0;32m    995\u001b[0m             \u001b[1;32melse\u001b[0m\u001b[1;33m:\u001b[0m\u001b[1;33m\u001b[0m\u001b[1;33m\u001b[0m\u001b[0m\n\u001b[0;32m    996\u001b[0m               \u001b[1;32mraise\u001b[0m\u001b[1;33m\u001b[0m\u001b[1;33m\u001b[0m\u001b[0m\n",
      "\u001b[1;31mValueError\u001b[0m: in user code:\n\n    c:\\users\\anisi\\documents\\univasf - engenharia de computação\\20.2 - inteligência computacional\\projetos\\projeto 02\\prediction-of-orders-dmc\\.virtualenv\\lib\\site-packages\\keras\\engine\\training.py:853 train_function  *\n        return step_function(self, iterator)\n    c:\\users\\anisi\\documents\\univasf - engenharia de computação\\20.2 - inteligência computacional\\projetos\\projeto 02\\prediction-of-orders-dmc\\.virtualenv\\lib\\site-packages\\keras\\engine\\training.py:842 step_function  **\n        outputs = model.distribute_strategy.run(run_step, args=(data,))\n    c:\\users\\anisi\\documents\\univasf - engenharia de computação\\20.2 - inteligência computacional\\projetos\\projeto 02\\prediction-of-orders-dmc\\.virtualenv\\lib\\site-packages\\tensorflow\\python\\distribute\\distribute_lib.py:1286 run\n        return self._extended.call_for_each_replica(fn, args=args, kwargs=kwargs)\n    c:\\users\\anisi\\documents\\univasf - engenharia de computação\\20.2 - inteligência computacional\\projetos\\projeto 02\\prediction-of-orders-dmc\\.virtualenv\\lib\\site-packages\\tensorflow\\python\\distribute\\distribute_lib.py:2849 call_for_each_replica\n        return self._call_for_each_replica(fn, args, kwargs)\n    c:\\users\\anisi\\documents\\univasf - engenharia de computação\\20.2 - inteligência computacional\\projetos\\projeto 02\\prediction-of-orders-dmc\\.virtualenv\\lib\\site-packages\\tensorflow\\python\\distribute\\distribute_lib.py:3632 _call_for_each_replica\n        return fn(*args, **kwargs)\n    c:\\users\\anisi\\documents\\univasf - engenharia de computação\\20.2 - inteligência computacional\\projetos\\projeto 02\\prediction-of-orders-dmc\\.virtualenv\\lib\\site-packages\\keras\\engine\\training.py:835 run_step  **\n        outputs = model.train_step(data)\n    c:\\users\\anisi\\documents\\univasf - engenharia de computação\\20.2 - inteligência computacional\\projetos\\projeto 02\\prediction-of-orders-dmc\\.virtualenv\\lib\\site-packages\\keras\\engine\\training.py:787 train_step\n        y_pred = self(x, training=True)\n    c:\\users\\anisi\\documents\\univasf - engenharia de computação\\20.2 - inteligência computacional\\projetos\\projeto 02\\prediction-of-orders-dmc\\.virtualenv\\lib\\site-packages\\keras\\engine\\base_layer.py:1020 __call__\n        input_spec.assert_input_compatibility(self.input_spec, inputs, self.name)\n    c:\\users\\anisi\\documents\\univasf - engenharia de computação\\20.2 - inteligência computacional\\projetos\\projeto 02\\prediction-of-orders-dmc\\.virtualenv\\lib\\site-packages\\keras\\engine\\input_spec.py:250 assert_input_compatibility\n        raise ValueError(\n\n    ValueError: Input 0 of layer sequential_4 is incompatible with the layer: expected axis -1 of input shape to have value 8 but received input with shape (None, 33)\n"
     ]
    }
   ],
   "source": [
    "# Treine o modelo\n",
    "#batch_size = 16\n",
    "#Log_mean_drop_replacing = mlp.fit(session_train_X_mean_drop_replacing, session_train_y_mean_drop_replacing.order.to_numpy(), batch_size=batch_size, epochs=200)\n",
    "\n",
    "#CROSS-VALIDATION\n",
    "X = session_train_X_mean_drop_replacing\n",
    "y = session_train_y_mean_drop_replacing\n",
    "kf = KFold(n_splits=10, random_state=42, shuffle=True)\n",
    "for train_index, test_index in kf.split(X):\n",
    "    X_train, X_test = X.iloc[train_index], X.iloc[test_index]\n",
    "    y_train, y_test = y.iloc[train_index], y.iloc[test_index]\n",
    "\n",
    "#DATA MINING\n",
    "# Treine o modelo\n",
    "batch_size = 16\n",
    "Log_mean_drop_replacing = mlp.fit(X_train, y_train.order.to_numpy(), batch_size=batch_size, epochs=200)\n",
    "\n",
    "\n",
    "#AVALIAÇÃO\n",
    "#Passo 1: Recuperar a resposta do modelo para o conjunto de teste e armazenar em um vetor\n",
    "y_pred = Log_y_pred_mean_drop_replacing.predict(X_test)\n",
    "\n",
    "#Passo 2: Gerar a Matriz de Confusão (linhas = real | colunas = previsto)\n",
    "cm = confusion_matrix(y_test, y_pred)\n",
    "df_cm = pd.DataFrame(cm)\n",
    "\n",
    "##Mudandando a ordem para vir primeiro 1 e depois 0\n",
    "df_cm = df_cm[[1, 0]]\n",
    "df_cm = df_cm.sort_index( ascending = False )\n",
    "print(\"Matriz de Confusão (linhas = real | colunas = previsto):\\n\", df_cm)\n",
    "\n",
    "#Passo 3: Recuperar os valores da matriz de confusão\n",
    "# Verdadeiro positivo\n",
    "a = df_cm.iloc[0,0]\n",
    "# Falso positivo\n",
    "b = df_cm.iloc[1,0]\n",
    "# Falso negativo\n",
    "c = df_cm.iloc[0, 1]\n",
    "# Verdadeiro negativo\n",
    "d = df_cm.iloc[1, 1]\n",
    "\n",
    "##Calculando a acurácia do modelo\n",
    "acuracia = (a + d) / (a + b + c + d)\n",
    "print(\"Acuracia:\", acuracia)\n",
    "\n",
    "##Calculando a precisão do modelo\n",
    "precisao = a / (a + b)\n",
    "print(\"Precisão:\", precisao)\n",
    "\n",
    "##Calculando a sensibilidade do modelo\n",
    "sensibilidade = a / (a + c)\n",
    "print(\"Sensibilidade:\", sensibilidade)\n",
    "\n",
    "##Calculando a especificidade do modelo\n",
    "especificidade = d / (b + d)\n",
    "print(\"Especificidade:\", especificidade)\n",
    "\n",
    "##Calculando a área sob a curva ROC\n",
    "roc_auc = roc_auc_score(y_test, y_pred)\n",
    "print(\"Área sob a curva ROC:\", roc_auc)\n",
    "\n",
    "##Gerando o gráfico da área sob a curva ROC\n",
    "fpr, tpr, _ = metrics.roc_curve(y_test, y_pred)\n",
    "plt.title('Receiver Operating Characteristic')\n",
    "plt.plot(fpr, tpr, 'b', label = 'AUC = %0.3f' % roc_auc)\n",
    "plt.legend(loc = 'lower right')\n",
    "plt.plot([0, 1], [0, 1],'r--')\n",
    "plt.xlim([0, 1])\n",
    "plt.ylim([0, 1])\n",
    "plt.ylabel('True Positive Rate')\n",
    "plt.xlabel('False Positive Rate')\n",
    "plt.show()\n",
    "\n",
    "#Gerando a base de predição:\n",
    "#Log_y_pred_mean_drop_replacing = Log_mean_drop_replacing.predict(session_test_X_mean_drop_replacing)"
   ]
  },
  {
   "cell_type": "markdown",
   "metadata": {},
   "source": [
    "### Para session_train_mean_replacing"
   ]
  },
  {
   "cell_type": "code",
   "execution_count": null,
   "metadata": {},
   "outputs": [],
   "source": [
    "# Criar o modelo\n",
    "input_neuron, hidden_neuron, output_neuron = 8, 3, 1\n",
    "\n",
    "mlp = Sequential([                  \n",
    "    InputLayer(input_neuron),\n",
    "    Dense(hidden_neuron, activation=\"relu\"),\n",
    "    Dense(output_neuron, activation=\"sigmoid\")\n",
    "])"
   ]
  },
  {
   "cell_type": "code",
   "execution_count": null,
   "metadata": {},
   "outputs": [],
   "source": [
    "# Usar a função summary()\n",
    "mlp.summary()"
   ]
  },
  {
   "cell_type": "code",
   "execution_count": null,
   "metadata": {},
   "outputs": [],
   "source": [
    "# Compile o modelo\n",
    "mlp.compile(optimizer=\"adam\", loss=\"binary_crossentropy\")"
   ]
  },
  {
   "cell_type": "code",
   "execution_count": null,
   "metadata": {},
   "outputs": [],
   "source": [
    "# Treine o modelo\n",
    "batch_size = 16\n",
    "Log_mean_replacing = mlp.fit(session_train_X_mean_replacing, session_train_y_mean_replacing, batch_size=batch_size, epochs=200)"
   ]
  },
  {
   "cell_type": "code",
   "execution_count": null,
   "metadata": {},
   "outputs": [],
   "source": [
    "#AVALIAÇÃO\n",
    "#Passo 1: Recuperar a resposta do modelo para o conjunto de teste e armazenar em um vetor\n",
    "Log_y_pred_mean_replacing = Log_mean_replacing.predict(session_test_X_mean_replacing)\n",
    "\n",
    "#Passo 2: Gerar a Matriz de Confusão (linhas = real | colunas = previsto)\n",
    "cm = confusion_matrix(TST_Y.prediction.to_numpy(),pred)\n",
    "df_cm = pd.DataFrame(cm)\n",
    "\n",
    "##Mudandando a ordem para vir primeiro 1 e depois 0\n",
    "df_cm = df_cm[[1, 0]]\n",
    "df_cm = df_cm.sort_index( ascending = False )\n",
    "print(\"Matriz de Confusão (linhas = real | colunas = previsto):\", df_cm)\n",
    "\n",
    "#Passo 3: Recuperar os valores da matriz de confusão\n",
    "# Verdadeiro positivo\n",
    "a = df_cm.iloc[0,0]\n",
    "# Falso positivo\n",
    "b = df_cm.iloc[1,0]\n",
    "# Falso negativo\n",
    "c = df_cm.iloc[0, 1]\n",
    "# Verdadeiro negativo\n",
    "d = df_cm.iloc[1, 1]\n",
    "\n",
    "##Calculando a acurácia do modelo\n",
    "acuracia = (a + d) / (a + b + c + d)\n",
    "print(\"Acuracia:\", acuracia)\n",
    "\n",
    "##Calculando a precisão do modelo\n",
    "precisao = a / (a + b)\n",
    "print(\"Precisão:\", precisao)\n",
    "\n",
    "##Calculando a sensibilidade do modelo\n",
    "sensibilidade = a / (a + c)\n",
    "print(\"Sensibilidade:\", sensibilidade)\n",
    "\n",
    "##Calculando a especificidade do modelo\n",
    "especificidade = d / (b + d)\n",
    "print(\"Especificidade:\", especificidade)\n",
    "\n",
    "##Calculando a área sob a curva ROC\n",
    "roc_auc = roc_auc_score(TST_Y.prediction.to_numpy(), RC_y_pred_mean_drop_replacing)\n",
    "print(\"Área sob a curva ROC:\", roc_auc)\n",
    "\n",
    "##Gerando o gráfico da área sob a curva ROC\n",
    "fpr,tpr,_ = metrics.roc_curve(TST_Y.prediction.to_numpy(), RC_y_pred_mean_drop_replacing)\n",
    "plt.title('Receiver Operating Characteristic ')\n",
    "plt.plot(fpr, tpr, 'b', label = 'AUC = %0.3f ' % roc_auc)\n",
    "plt.legend(loc = 'lower right ')\n",
    "plt.plot([0, 1], [0, 1],'r--')\n",
    "plt.xlim([0, 1])\n",
    "plt.ylim([0, 1])\n",
    "plt.ylabel('True Positive Rate')\n",
    "plt.xlabel('False Positive Rate')\n",
    "plt.show()"
   ]
  },
  {
   "cell_type": "markdown",
   "metadata": {},
   "source": [
    "### Para session_train_median_replacing"
   ]
  },
  {
   "cell_type": "code",
   "execution_count": null,
   "metadata": {},
   "outputs": [],
   "source": [
    "# Criar o modelo\n",
    "input_neuron, hidden_neuron, output_neuron = 8, 3, 1\n",
    "\n",
    "mlp = Sequential([                  \n",
    "    InputLayer(input_neuron),\n",
    "    Dense(hidden_neuron, activation=\"relu\"),\n",
    "    Dense(output_neuron, activation=\"sigmoid\")\n",
    "])"
   ]
  },
  {
   "cell_type": "code",
   "execution_count": null,
   "metadata": {},
   "outputs": [],
   "source": [
    "# Usar a função summary()\n",
    "mlp.summary()"
   ]
  },
  {
   "cell_type": "code",
   "execution_count": null,
   "metadata": {},
   "outputs": [],
   "source": [
    "# Compile o modelo\n",
    "mlp.compile(optimizer=\"adam\", loss=\"binary_crossentropy\")"
   ]
  },
  {
   "cell_type": "code",
   "execution_count": null,
   "metadata": {},
   "outputs": [],
   "source": [
    "# Treine o modelo\n",
    "batch_size = 16\n",
    "Log_median_replacing = mlp.fit(session_train_X_median_replacing, session_train_y_median_replacing, batch_size=batch_size, epochs=200)"
   ]
  },
  {
   "cell_type": "code",
   "execution_count": null,
   "metadata": {},
   "outputs": [],
   "source": [
    "#AVALIAÇÃO\n",
    "#Passo 1: Recuperar a resposta do modelo para o conjunto de teste e armazenar em um vetor\n",
    "Log_y_pred_median_replacing = Log_median_replacing.predict(session_test_X_median_replacing)\n",
    "\n",
    "#Passo 2: Gerar a Matriz de Confusão (linhas = real | colunas = previsto)\n",
    "cm = confusion_matrix(TST_Y.prediction.to_numpy(),pred)\n",
    "df_cm = pd.DataFrame(cm)\n",
    "\n",
    "##Mudandando a ordem para vir primeiro 1 e depois 0\n",
    "df_cm = df_cm[[1, 0]]\n",
    "df_cm = df_cm.sort_index( ascending = False )\n",
    "print(\"Matriz de Confusão (linhas = real | colunas = previsto):\", df_cm)\n",
    "\n",
    "#Passo 3: Recuperar os valores da matriz de confusão\n",
    "# Verdadeiro positivo\n",
    "a = df_cm.iloc[0,0]\n",
    "# Falso positivo\n",
    "b = df_cm.iloc[1,0]\n",
    "# Falso negativo\n",
    "c = df_cm.iloc[0, 1]\n",
    "# Verdadeiro negativo\n",
    "d = df_cm.iloc[1, 1]\n",
    "\n",
    "##Calculando a acurácia do modelo\n",
    "acuracia = (a + d) / (a + b + c + d)\n",
    "print(\"Acuracia:\", acuracia)\n",
    "\n",
    "##Calculando a precisão do modelo\n",
    "precisao = a / (a + b)\n",
    "print(\"Precisão:\", precisao)\n",
    "\n",
    "##Calculando a sensibilidade do modelo\n",
    "sensibilidade = a / (a + c)\n",
    "print(\"Sensibilidade:\", sensibilidade)\n",
    "\n",
    "##Calculando a especificidade do modelo\n",
    "especificidade = d / (b + d)\n",
    "print(\"Especificidade:\", especificidade)\n",
    "\n",
    "##Calculando a área sob a curva ROC\n",
    "roc_auc = roc_auc_score(TST_Y.prediction.to_numpy(), RC_y_pred_mean_drop_replacing)\n",
    "print(\"Área sob a curva ROC:\", roc_auc)\n",
    "\n",
    "##Gerando o gráfico da área sob a curva ROC\n",
    "fpr,tpr,_ = metrics.roc_curve(TST_Y.prediction.to_numpy(), RC_y_pred_mean_drop_replacing)\n",
    "plt.title('Receiver Operating Characteristic ')\n",
    "plt.plot(fpr, tpr, 'b', label = 'AUC = %0.3f ' % roc_auc)\n",
    "plt.legend(loc = 'lower right ')\n",
    "plt.plot([0, 1], [0, 1],'r--')\n",
    "plt.xlim([0, 1])\n",
    "plt.ylim([0, 1])\n",
    "plt.ylabel('True Positive Rate')\n",
    "plt.xlabel('False Positive Rate')\n",
    "plt.show()"
   ]
  },
  {
   "cell_type": "markdown",
   "metadata": {},
   "source": [
    "### Para session_train_min_replacing"
   ]
  },
  {
   "cell_type": "code",
   "execution_count": null,
   "metadata": {},
   "outputs": [],
   "source": [
    "# Criar o modelo\n",
    "input_neuron, hidden_neuron, output_neuron = 8, 3, 1\n",
    "\n",
    "mlp = Sequential([                  \n",
    "    InputLayer(input_neuron),\n",
    "    Dense(hidden_neuron, activation=\"relu\"),\n",
    "    Dense(output_neuron, activation=\"sigmoid\")\n",
    "])"
   ]
  },
  {
   "cell_type": "code",
   "execution_count": null,
   "metadata": {},
   "outputs": [],
   "source": [
    "# Usar a função summary()\n",
    "mlp.summary()"
   ]
  },
  {
   "cell_type": "code",
   "execution_count": null,
   "metadata": {},
   "outputs": [],
   "source": [
    "# Compile o modelo\n",
    "mlp.compile(optimizer=\"adam\", loss=\"binary_crossentropy\")"
   ]
  },
  {
   "cell_type": "code",
   "execution_count": null,
   "metadata": {},
   "outputs": [],
   "source": [
    "# Treine o modelo\n",
    "batch_size = 16\n",
    "Log_min_replacing = mlp.fit(session_train_X_min_replacing, session_train_y_min_replacing, batch_size=batch_size, epochs=200)"
   ]
  },
  {
   "cell_type": "code",
   "execution_count": null,
   "metadata": {},
   "outputs": [],
   "source": [
    "#AVALIAÇÃO\n",
    "#Passo 1: Recuperar a resposta do modelo para o conjunto de teste e armazenar em um vetor\n",
    "Log_y_pred_min_replacing = Log_min_replacing.predict(session_test_X_min_replacing)\n",
    "\n",
    "#Passo 2: Gerar a Matriz de Confusão (linhas = real | colunas = previsto)\n",
    "cm = confusion_matrix(TST_Y.prediction.to_numpy(),pred)\n",
    "df_cm = pd.DataFrame(cm)\n",
    "\n",
    "##Mudandando a ordem para vir primeiro 1 e depois 0\n",
    "df_cm = df_cm[[1, 0]]\n",
    "df_cm = df_cm.sort_index( ascending = False )\n",
    "print(\"Matriz de Confusão (linhas = real | colunas = previsto):\", df_cm)\n",
    "\n",
    "#Passo 3: Recuperar os valores da matriz de confusão\n",
    "# Verdadeiro positivo\n",
    "a = df_cm.iloc[0,0]\n",
    "# Falso positivo\n",
    "b = df_cm.iloc[1,0]\n",
    "# Falso negativo\n",
    "c = df_cm.iloc[0, 1]\n",
    "# Verdadeiro negativo\n",
    "d = df_cm.iloc[1, 1]\n",
    "\n",
    "##Calculando a acurácia do modelo\n",
    "acuracia = (a + d) / (a + b + c + d)\n",
    "print(\"Acuracia:\", acuracia)\n",
    "\n",
    "##Calculando a precisão do modelo\n",
    "precisao = a / (a + b)\n",
    "print(\"Precisão:\", precisao)\n",
    "\n",
    "##Calculando a sensibilidade do modelo\n",
    "sensibilidade = a / (a + c)\n",
    "print(\"Sensibilidade:\", sensibilidade)\n",
    "\n",
    "##Calculando a especificidade do modelo\n",
    "especificidade = d / (b + d)\n",
    "print(\"Especificidade:\", especificidade)\n",
    "\n",
    "##Calculando a área sob a curva ROC\n",
    "roc_auc = roc_auc_score(TST_Y.prediction.to_numpy(), RC_y_pred_mean_drop_replacing)\n",
    "print(\"Área sob a curva ROC:\", roc_auc)\n",
    "\n",
    "##Gerando o gráfico da área sob a curva ROC\n",
    "fpr,tpr,_ = metrics.roc_curve(TST_Y.prediction.to_numpy(), RC_y_pred_mean_drop_replacing)\n",
    "plt.title('Receiver Operating Characteristic ')\n",
    "plt.plot(fpr, tpr, 'b', label = 'AUC = %0.3f ' % roc_auc)\n",
    "plt.legend(loc = 'lower right ')\n",
    "plt.plot([0, 1], [0, 1],'r--')\n",
    "plt.xlim([0, 1])\n",
    "plt.ylim([0, 1])\n",
    "plt.ylabel('True Positive Rate')\n",
    "plt.xlabel('False Positive Rate')\n",
    "plt.show()"
   ]
  }
 ],
 "metadata": {
  "kernelspec": {
   "display_name": "Python 3 (ipykernel)",
   "language": "python",
   "name": "python3"
  },
  "language_info": {
   "codemirror_mode": {
    "name": "ipython",
    "version": 3
   },
   "file_extension": ".py",
   "mimetype": "text/x-python",
   "name": "python",
   "nbconvert_exporter": "python",
   "pygments_lexer": "ipython3",
   "version": "3.8.0"
  }
 },
 "nbformat": 4,
 "nbformat_minor": 4
}
