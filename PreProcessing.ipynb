{
 "cells": [
  {
   "cell_type": "markdown",
   "id": "8d8cf55d",
   "metadata": {},
   "source": [
    "<img src=\"./assets/img/univasf-logo.png\" height=100 width=100/>\n",
    "\n",
    "<center>\n",
    "<h3>\n",
    "    UNIVERSIDADE FEDERAL DO VALE DO SÃO FRANCISCO\n",
    "    <br>&nbsp;&nbsp;&nbsp;&nbsp;&nbsp;&nbsp;&nbsp;&nbsp;COLEGIADO DE ENGENHARIA DE COMPUTAÇÃO\n",
    "</h3>\n",
    "\n",
    "<h3>&nbsp;&nbsp;&nbsp;&nbsp;&nbsp;&nbsp;&nbsp;&nbsp;Orientador</h3>\n",
    "<span>Prof. Dr. Rosalvo Ferreira de Oliveira Neto</span>\n",
    "\n",
    "<h3>&nbsp;&nbsp;&nbsp;&nbsp;&nbsp;&nbsp;&nbsp;&nbsp;Discentes</h3>\n",
    "<span>Anísio Pereira Batista Filho\n",
    "<br>Edjair Aguiar Gomes Filho\n",
    "<br>Elayne Rute Lessa Lemos</span>\n",
    "</center>\n",
    "<br><br>"
   ]
  },
  {
   "cell_type": "markdown",
   "id": "1f0d0890",
   "metadata": {},
   "source": [
    "## Predição de pedidos com Redes Neurais e Random Forest"
   ]
  },
  {
   "cell_type": "markdown",
   "id": "e589b440",
   "metadata": {},
   "source": [
    "### Importação da base de dados"
   ]
  },
  {
   "cell_type": "code",
   "execution_count": null,
   "id": "bc86eca7",
   "metadata": {},
   "outputs": [],
   "source": [
    "import numpy as np\n",
    "import pandas as pd"
   ]
  },
  {
   "cell_type": "code",
   "execution_count": null,
   "id": "8b2b416b",
   "metadata": {},
   "outputs": [],
   "source": [
    "transact_train_database = pd.read_csv('data/transact_train.txt', sep = '|')\n",
    "transact_train_database.sample(3)"
   ]
  },
  {
   "cell_type": "code",
   "execution_count": null,
   "id": "5ad242df",
   "metadata": {
    "scrolled": true
   },
   "outputs": [],
   "source": [
    "transact_test_database = pd.read_csv('data/transact_class.txt', sep = '|')\n",
    "transact_test_database.sample(3)"
   ]
  },
  {
   "cell_type": "markdown",
   "id": "566c7652",
   "metadata": {},
   "source": [
    "<br>\n",
    "\n",
    "### Alteração da granularidade da base de dados"
   ]
  },
  {
   "cell_type": "code",
   "execution_count": null,
   "id": "49196664",
   "metadata": {
    "scrolled": false
   },
   "outputs": [],
   "source": [
    "# remove todas as linhas com valores de sessionNo iguais exceto a última\n",
    "session_train_database = transact_train_database.drop_duplicates(subset=['sessionNo'], keep='last')\n",
    "\n",
    "# separa variável alvo no conjunto de treinamento\n",
    "session_train_X = session_train_database.iloc[:,:-1]\n",
    "session_train_y = session_train_database.iloc[:,-1]\n",
    "session_train_y = session_train_y.replace({'y': 1 , 'n': 0 })"
   ]
  },
  {
   "cell_type": "code",
   "execution_count": null,
   "id": "16d4e1fa",
   "metadata": {},
   "outputs": [],
   "source": [
    "session_test_X = transact_test_database.drop_duplicates(subset=['sessionNo'], keep='last')\n",
    "session_test_y = session_test_X['sessionNo']"
   ]
  },
  {
   "cell_type": "code",
   "execution_count": null,
   "id": "c529df6c",
   "metadata": {},
   "outputs": [],
   "source": [
    "session_test_X.sample(3)"
   ]
  },
  {
   "cell_type": "markdown",
   "id": "f5b62a2f",
   "metadata": {},
   "source": [
    "<br>\n",
    "\n",
    "### Tratamento de valores ausentes"
   ]
  },
  {
   "cell_type": "code",
   "execution_count": null,
   "id": "30e2cfa2",
   "metadata": {},
   "outputs": [],
   "source": [
    "def replace_missing_value(df, value, features):\n",
    "    replaced = df[features].replace(value, np.nan)\n",
    "    for column in features:\n",
    "        df[column] = replaced[column]\n",
    "\n",
    "    return df"
   ]
  },
  {
   "cell_type": "code",
   "execution_count": null,
   "id": "6fa64115",
   "metadata": {},
   "outputs": [],
   "source": [
    "# convert_float() é baseadona solução proposta no Estudo de Caso\n",
    "# do livro Ciência dos Dados pelo Processo de KDD do Prof. Dr. Rosalvo Neto\n",
    "# livro em: https://www.researchgate.net/publication/352749819_Ciencia_dos_Dados_pelo_Processo_de_KDD\n",
    "# implementação em: https://github.com/rosalvoneto/Livro\n",
    "\n",
    "def convert_float(df, numeric_features):\n",
    "    for column in numeric_features:\n",
    "        df[column] = df[column].astype(float)\n",
    "\n",
    "    return df"
   ]
  },
  {
   "cell_type": "code",
   "execution_count": null,
   "id": "e2a0a676",
   "metadata": {},
   "outputs": [],
   "source": [
    "# replace_missing_by_mean() é baseadona solução proposta no Estudo de Caso\n",
    "# do livro Ciência dos Dados pelo Processo de KDD do Prof. Dr. Rosalvo Neto\n",
    "# livro em: https://www.researchgate.net/publication/352749819_Ciencia_dos_Dados_pelo_Processo_de_KDD\n",
    "# implementação em: https://github.com/rosalvoneto/Livro\n",
    "\n",
    "def replace_missing_by_mean(df, numeric_features):\n",
    "    for column in numeric_features:\n",
    "        average = df[column].mean(axis=0)\n",
    "        df[column].fillna(average, inplace=True)\n",
    "    \n",
    "    return df"
   ]
  },
  {
   "cell_type": "code",
   "execution_count": null,
   "id": "5b15efa0",
   "metadata": {},
   "outputs": [],
   "source": [
    "def replace_by_reference(df, reference_feature, reference_feature_value, features, replace_to):\n",
    "    rows = df[reference_feature] == reference_feature_value\n",
    "    for column in features:\n",
    "        df.loc[rows, column] = replace_to\n",
    "    \n",
    "    return df"
   ]
  },
  {
   "cell_type": "code",
   "execution_count": null,
   "id": "e771e465",
   "metadata": {},
   "outputs": [],
   "source": [
    "def replace_missing_by_fixed_value(df, value, features):\n",
    "    for column in features:\n",
    "        df[column].fillna(value, inplace=True)\n",
    "\n",
    "    return df"
   ]
  },
  {
   "cell_type": "code",
   "execution_count": null,
   "id": "5dcd5e7f",
   "metadata": {},
   "outputs": [],
   "source": [
    "numeric_features = ['cMinPrice', 'cMaxPrice', 'cSumPrice', 'bMinPrice', 'bMaxPrice',\n",
    "    'bSumPrice', 'bStep','maxVal', 'customerScore', 'accountLifetime', 'payments', \n",
    "    'age', 'address', 'lastOrder']\n",
    "\n",
    "string_features = ['availability', 'onlineStatus']"
   ]
  },
  {
   "cell_type": "code",
   "execution_count": null,
   "id": "49f6e4b1",
   "metadata": {},
   "outputs": [],
   "source": [
    "session_train_X = replace_missing_value(session_train_X.copy(), '?', numeric_features)\n",
    "session_test_X = replace_missing_value(session_test_X.copy(), '?', numeric_features)\n",
    "session_train_X = replace_missing_value(session_train_X.copy(), '?', string_features)\n",
    "session_test_X = replace_missing_value(session_test_X.copy(), '?', string_features)"
   ]
  },
  {
   "cell_type": "code",
   "execution_count": null,
   "id": "e752be61",
   "metadata": {},
   "outputs": [],
   "source": [
    "session_train_X = convert_float(session_train_X, numeric_features)\n",
    "session_test_X = convert_float(session_test_X, numeric_features)"
   ]
  },
  {
   "cell_type": "code",
   "execution_count": null,
   "id": "74a4fedd",
   "metadata": {},
   "outputs": [],
   "source": [
    "replace_missing_by_mean(session_train_X, numeric_features)\n",
    "replace_missing_by_mean(session_test_X, numeric_features)"
   ]
  },
  {
   "cell_type": "code",
   "execution_count": null,
   "id": "d1d08c6d",
   "metadata": {},
   "outputs": [],
   "source": [
    "replace_missing_by_fixed_value(session_train_X, 'ausente', string_features)\n",
    "replace_missing_by_fixed_value(session_test_X, 'ausente', string_features)"
   ]
  },
  {
   "cell_type": "code",
   "execution_count": null,
   "id": "218f1c5e",
   "metadata": {},
   "outputs": [],
   "source": [
    "session_train_X = replace_by_reference(session_train_X, 'customerNo', '?', ['maxVal',\n",
    "    'customerScore', 'accountLifetime', 'payments', 'age', 'address', 'lastOrder'], 0)\n",
    "session_test_X = replace_by_reference(session_test_X, 'customerNo', '?', ['maxVal',\n",
    "    'customerScore', 'accountLifetime', 'payments', 'age', 'address', 'lastOrder'], 0)"
   ]
  },
  {
   "cell_type": "code",
   "execution_count": null,
   "id": "2c860834",
   "metadata": {},
   "outputs": [],
   "source": [
    "session_train_X.sample(3)"
   ]
  },
  {
   "cell_type": "code",
   "execution_count": null,
   "id": "1a971106",
   "metadata": {},
   "outputs": [],
   "source": [
    "transact_train_database = replace_missing_value(transact_train_database.copy(), '?', numeric_features)\n",
    "transact_train_database = replace_missing_value(transact_train_database.copy(), '?', string_features)\n",
    "transact_test_database = replace_missing_value(transact_test_database.copy(), '?', numeric_features)\n",
    "transact_test_database = replace_missing_value(transact_test_database.copy(), '?', string_features)\n",
    "\n",
    "transact_train_database = convert_float(transact_train_database, numeric_features)\n",
    "transact_test_database = convert_float(transact_test_database, numeric_features)"
   ]
  },
  {
   "cell_type": "code",
   "execution_count": null,
   "id": "c016f267",
   "metadata": {},
   "outputs": [],
   "source": [
    "transact_train_database.sample(3)"
   ]
  },
  {
   "cell_type": "code",
   "execution_count": null,
   "id": "b040f4d5",
   "metadata": {},
   "outputs": [],
   "source": [
    "# torna o sessionNo o índice da base\n",
    "session_train_X.set_index('sessionNo', inplace=True)\n",
    "session_test_X.set_index('sessionNo', inplace=True)"
   ]
  },
  {
   "cell_type": "code",
   "execution_count": null,
   "id": "af60c9b8",
   "metadata": {},
   "outputs": [],
   "source": [
    "session_train_X.sample(3)"
   ]
  },
  {
   "cell_type": "markdown",
   "id": "9b1abaf7",
   "metadata": {},
   "source": [
    "<br>\n",
    "\n",
    "### Criação de variáveis"
   ]
  },
  {
   "cell_type": "code",
   "execution_count": null,
   "id": "70f03f4e",
   "metadata": {
    "scrolled": true
   },
   "outputs": [],
   "source": [
    "# bMeanSumPriceOverTransacitions: valor médio do carrinho durante a sessão \n",
    "session_train_X['bMeanSumPriceOverTransacitions'] = transact_train_database.groupby('sessionNo').bSumPrice.mean()\n",
    "session_train_X['bMeanSumPriceOverTransacitions'].fillna(0, inplace=True)\n",
    "session_test_X['bMeanSumPriceOverTransacitions'] = transact_test_database.groupby('sessionNo').bSumPrice.mean()\n",
    "session_test_X['bMeanSumPriceOverTransacitions'].fillna(0, inplace=True)\n",
    "\n",
    "# meanInterationsDuration: valor médio de tempo entre uma transação e outra na sessão\n",
    "session_train_X['meanInterationsDuration'] = session_train_X['duration']/transact_train_database.groupby('sessionNo').duration.count()\n",
    "session_train_X['meanInterationsDuration'].fillna(0, inplace=True)\n",
    "session_test_X['meanInterationsDuration'] = session_test_X['duration']/transact_test_database.groupby('sessionNo').duration.count()\n",
    "session_test_X['meanInterationsDuration'].fillna(0, inplace=True)\n",
    "\n",
    "# bMeanCountOverTransacitions: quantidade média de itens no carrinho durante a sessão \n",
    "session_train_X['bMeanCountOverTransacitions'] = transact_train_database.groupby('sessionNo').bCount.mean()\n",
    "session_train_X['bMeanCountOverTransacitions'].fillna(0, inplace=True)\n",
    "session_test_X['bMeanCountOverTransacitions'] = transact_test_database.groupby('sessionNo').bCount.mean()\n",
    "session_test_X['bMeanCountOverTransacitions'].fillna(0, inplace=True)"
   ]
  },
  {
   "cell_type": "code",
   "execution_count": null,
   "id": "e6e39bed",
   "metadata": {},
   "outputs": [],
   "source": [
    "session_train_X.sample(3)"
   ]
  },
  {
   "cell_type": "markdown",
   "id": "9ea0014f",
   "metadata": {},
   "source": [
    "<br>\n",
    "\n",
    "### Normalização do conjunto de dados"
   ]
  },
  {
   "cell_type": "code",
   "execution_count": null,
   "id": "0e347db5",
   "metadata": {},
   "outputs": [],
   "source": [
    "# criação das variáveis dummies\n",
    "\n",
    "session_train_X = pd.get_dummies(session_train_X, prefix_sep='_')\n",
    "session_test_X = pd.get_dummies(session_test_X, prefix_sep='_')"
   ]
  },
  {
   "cell_type": "code",
   "execution_count": null,
   "id": "4d930472",
   "metadata": {},
   "outputs": [],
   "source": [
    "# get_Min_Max() e normilize() foram retirados da solução proposta no Estudo de Caso\n",
    "# do livro Ciência dos Dados pelo Processo de KDD do Prof. Dr. Rosalvo Neto\n",
    "# livro em: https://www.researchgate.net/publication/352749819_Ciencia_dos_Dados_pelo_Processo_de_KDD\n",
    "# implementação em: https://github.com/rosalvoneto/Livro\n",
    "\n",
    "def get_Min_Max(X):\n",
    "    result = {}\n",
    "    for v in X.columns:\n",
    "        result[v] = (np.min(X[v]), np.max(X[v]))\n",
    "    return result\n",
    "\n",
    "def normalize(X, MinMax):\n",
    "    result = X.copy()\n",
    "    for v in MinMax:\n",
    "        min_v, max_v = MinMax[v]\n",
    "        div = max_v - min_v\n",
    "        if div == 0:\n",
    "            div = 1\n",
    "\n",
    "        result[v] = (X[v] - min_v) / div\n",
    "        idx_0 = result[v]<0\n",
    "        result.loc[idx_0, v] = 0\n",
    "        \n",
    "        idx_1 = result[v]>1\n",
    "        result.loc[idx_1, v] = 1\n",
    "        \n",
    "    return result\n",
    "\n",
    "\n",
    "norm_min_max = get_Min_Max(session_train_X)\n",
    "\n",
    "session_train_X = normalize(session_train_X, norm_min_max)\n",
    "session_test_X = normalize(session_test_X, norm_min_max)"
   ]
  },
  {
   "cell_type": "code",
   "execution_count": null,
   "id": "b1e5d799",
   "metadata": {},
   "outputs": [],
   "source": [
    "session_train_X.sample(3)"
   ]
  },
  {
   "cell_type": "markdown",
   "id": "467a9064",
   "metadata": {},
   "source": [
    "<br>\n",
    "\n",
    "### Remoção de variáveis não significativas"
   ]
  },
  {
   "cell_type": "code",
   "execution_count": null,
   "id": "8f9badb4",
   "metadata": {},
   "outputs": [],
   "source": [
    "session_train_X = session_train_X.drop(['customerNo'], axis=1)\n",
    "session_test_X = session_test_X.drop(['customerNo'], axis=1)\n",
    "\n",
    "\n",
    "threshold_var=0\n",
    "l_var = [x for x in session_train_X.columns if session_train_X[x].var() <= threshold_var]\n",
    "for v in l_var:\n",
    "    session_train_X = session_train_X.drop([v], axis=1)\n",
    "    session_test_X = session_test_X.drop([v], axis=1)"
   ]
  },
  {
   "cell_type": "code",
   "execution_count": null,
   "id": "bc11ac55",
   "metadata": {},
   "outputs": [],
   "source": [
    "session_train_X.sample(3)"
   ]
  },
  {
   "cell_type": "markdown",
   "id": "265569ca",
   "metadata": {},
   "source": [
    "<br>\n",
    "\n",
    "### Exportação dos dados"
   ]
  },
  {
   "cell_type": "code",
   "execution_count": null,
   "id": "3d09297e",
   "metadata": {},
   "outputs": [],
   "source": [
    "session_train_X.to_csv('data/session_train_X.csv', index=False)\n",
    "session_train_y.to_csv('data/session_train_y.csv', index=False)\n",
    "session_test_X.to_csv('data/session_test_X.csv', index=False)\n",
    "session_test_y.to_csv('data/session_test_y.csv', index=False)"
   ]
  }
 ],
 "metadata": {
  "kernelspec": {
   "display_name": "Python 3 (ipykernel)",
   "language": "python",
   "name": "python3"
  },
  "language_info": {
   "codemirror_mode": {
    "name": "ipython",
    "version": 3
   },
   "file_extension": ".py",
   "mimetype": "text/x-python",
   "name": "python",
   "nbconvert_exporter": "python",
   "pygments_lexer": "ipython3",
   "version": "3.8.10"
  }
 },
 "nbformat": 4,
 "nbformat_minor": 5
}
