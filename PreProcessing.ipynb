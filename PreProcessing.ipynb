{
 "cells": [
  {
   "cell_type": "markdown",
   "id": "8d8cf55d",
   "metadata": {
    "id": "8d8cf55d"
   },
   "source": [
    "<center>\n",
    "<img src=\"https://raw.githubusercontent.com/elaynelemos/prediction-of-orders-dmc/main/assets/img/univasf-logo.png\" width=200>\n",
    "<h3>\n",
    "    UNIVERSIDADE FEDERAL DO VALE DO SÃO FRANCISCO\n",
    "    <br>COLEGIADO DE ENGENHARIA DE COMPUTAÇÃO\n",
    "</h3>\n",
    "\n",
    "<h3>Orientador</h3>\n",
    "<span>Prof. Dr. Rosalvo Ferreira de Oliveira Neto</span>\n",
    "\n",
    "<h3>Discentes</h3>\n",
    "<span>Anísio Pereira Batista Filho\n",
    "<br>Edjair Aguiar Gomes Filho\n",
    "<br>Elayne Rute Lessa Lemos</span>\n",
    "</center>\n",
    "<br><br>"
   ]
  },
  {
   "cell_type": "markdown",
   "id": "1f0d0890",
   "metadata": {
    "id": "1f0d0890"
   },
   "source": [
    "## Predição de pedidos com Redes Neurais e Random Forest\n",
    "\n",
    "Projeto em: [github.com/elaynelemos/prediction-of-orders-dmc](https://github.com/elaynelemos/prediction-of-orders-dmc)\n"
   ]
  },
  {
   "cell_type": "markdown",
   "id": "e589b440",
   "metadata": {
    "id": "e589b440"
   },
   "source": [
    "### Importação da base de dados"
   ]
  },
  {
   "cell_type": "code",
   "execution_count": null,
   "id": "bc86eca7",
   "metadata": {
    "id": "bc86eca7"
   },
   "outputs": [],
   "source": [
    "import numpy as np\n",
    "import pandas as pd"
   ]
  },
  {
   "cell_type": "code",
   "execution_count": null,
   "id": "8b2b416b",
   "metadata": {
    "colab": {
     "base_uri": "https://localhost:8080/",
     "height": 213
    },
    "id": "8b2b416b",
    "outputId": "1cf9fb4a-ad8d-46b7-d52d-432b96f40fd6"
   },
   "outputs": [],
   "source": [
    "repo_url = 'https://raw.githubusercontent.com/elaynelemos/prediction-of-orders-dmc/main'\n",
    "\n",
    "transact_train_database = pd.read_csv(f'{repo_url}/data/transact_train.txt', sep = '|')\n",
    "transact_train_database.sample(3)"
   ]
  },
  {
   "cell_type": "code",
   "execution_count": null,
   "id": "5ad242df",
   "metadata": {
    "colab": {
     "base_uri": "https://localhost:8080/",
     "height": 196
    },
    "id": "5ad242df",
    "outputId": "7bb3015c-5175-471c-b828-b8cb0e7c29a8",
    "scrolled": true
   },
   "outputs": [],
   "source": [
    "transact_test_database = pd.read_csv(f'{repo_url}/data/transact_class.txt', sep = '|')\n",
    "transact_test_database.sample(3)"
   ]
  },
  {
   "cell_type": "markdown",
   "id": "566c7652",
   "metadata": {
    "id": "566c7652"
   },
   "source": [
    "<br>\n",
    "\n",
    "### Alteração da granularidade da base de dados"
   ]
  },
  {
   "cell_type": "code",
   "execution_count": null,
   "id": "49196664",
   "metadata": {
    "id": "49196664",
    "scrolled": false
   },
   "outputs": [],
   "source": [
    "# remove todas as linhas com valores de sessionNo iguais exceto a última\n",
    "session_train_database = transact_train_database.drop_duplicates(subset=['sessionNo'], keep='last')\n",
    "\n",
    "# separa variável alvo no conjunto de treinamento\n",
    "session_train_X = session_train_database.iloc[:,:-1]\n",
    "session_train_y = session_train_database.iloc[:,-1]\n",
    "session_train_y = session_train_y.replace({'y': 1 , 'n': 0 })\n",
    "\n",
    "\n",
    "# remove todas as linhas com valores de sessionNo iguais exceto a última na base de teste\n",
    "session_test_X = transact_test_database.drop_duplicates(subset=['sessionNo'], keep='last')"
   ]
  },
  {
   "cell_type": "code",
   "execution_count": null,
   "id": "9e4cfa3b",
   "metadata": {},
   "outputs": [],
   "source": [
    "session_test_X.sample(3)"
   ]
  },
  {
   "cell_type": "markdown",
   "id": "f5b62a2f",
   "metadata": {
    "id": "f5b62a2f"
   },
   "source": [
    "<br>\n",
    "\n",
    "### Tratamento de valores ausentes"
   ]
  },
  {
   "cell_type": "code",
   "execution_count": null,
   "id": "30e2cfa2",
   "metadata": {
    "id": "30e2cfa2"
   },
   "outputs": [],
   "source": [
    "def replace_missing_value(df, value, features):\n",
    "    replaced = df[features].replace(value, np.nan)\n",
    "    for column in features:\n",
    "        df[column] = replaced[column]\n",
    "\n",
    "    return df"
   ]
  },
  {
   "cell_type": "code",
   "execution_count": null,
   "id": "6fa64115",
   "metadata": {
    "id": "6fa64115"
   },
   "outputs": [],
   "source": [
    "# convert_float() é baseadona solução proposta no Estudo de Caso\n",
    "# do livro Ciência dos Dados pelo Processo de KDD do Prof. Dr. Rosalvo Neto\n",
    "# livro em: https://www.researchgate.net/publication/352749819_Ciencia_dos_Dados_pelo_Processo_de_KDD\n",
    "# implementação em: https://github.com/rosalvoneto/Livro\n",
    "\n",
    "def convert_float(df, numeric_features):\n",
    "    for column in numeric_features:\n",
    "        df[column] = df[column].astype(float)\n",
    "\n",
    "    return df"
   ]
  },
  {
   "cell_type": "code",
   "execution_count": null,
   "id": "8202641f",
   "metadata": {},
   "outputs": [],
   "source": [
    "def replace_missing_by_fixed_value(df, value, features):\n",
    "    for column in features:\n",
    "        df[column].fillna(value, inplace=True)\n",
    "\n",
    "    return df"
   ]
  },
  {
   "cell_type": "code",
   "execution_count": null,
   "id": "e2a0a676",
   "metadata": {
    "id": "e2a0a676"
   },
   "outputs": [],
   "source": [
    "# replace_missing_by_mean() é baseadona solução proposta no Estudo de Caso\n",
    "# do livro Ciência dos Dados pelo Processo de KDD do Prof. Dr. Rosalvo Neto\n",
    "# livro em: https://www.researchgate.net/publication/352749819_Ciencia_dos_Dados_pelo_Processo_de_KDD\n",
    "# implementação em: https://github.com/rosalvoneto/Livro\n",
    "\n",
    "def replace_missing_by_mean(df, numeric_features):\n",
    "    for column in numeric_features:\n",
    "        average = df[column].mean(axis=0)\n",
    "        df[column].fillna(average, inplace=True)\n",
    "    \n",
    "    return df"
   ]
  },
  {
   "cell_type": "code",
   "execution_count": null,
   "id": "d5ae3b8d",
   "metadata": {},
   "outputs": [],
   "source": [
    "def replace_missing_by_median(df, numeric_features):\n",
    "    for column in numeric_features:\n",
    "        med = df[column].median(axis=0)\n",
    "        df[column].fillna(med, inplace=True)\n",
    "    \n",
    "    return df"
   ]
  },
  {
   "cell_type": "code",
   "execution_count": null,
   "id": "5b15efa0",
   "metadata": {
    "id": "5b15efa0"
   },
   "outputs": [],
   "source": [
    "def replace_missing_by_min(df, numeric_features):\n",
    "    for column in numeric_features:\n",
    "        minimum = df[column].min(axis=0)\n",
    "        df[column].fillna(minimum, inplace=True)\n",
    "    \n",
    "    return df"
   ]
  },
  {
   "cell_type": "code",
   "execution_count": null,
   "id": "5dcd5e7f",
   "metadata": {
    "id": "5dcd5e7f"
   },
   "outputs": [],
   "source": [
    "numeric_features = ['cMinPrice', 'cMaxPrice', 'cSumPrice', 'bMinPrice', 'bMaxPrice',\n",
    "    'bSumPrice', 'bStep','maxVal', 'customerScore', 'accountLifetime', 'payments', \n",
    "    'age', 'address', 'lastOrder']\n",
    "\n",
    "string_features = ['availability', 'onlineStatus']\n",
    "\n",
    "customerno_dependent_feats = ['maxVal', 'customerScore', 'accountLifetime', 'payments',\n",
    "    'age', 'address', 'lastOrder']"
   ]
  },
  {
   "cell_type": "code",
   "execution_count": null,
   "id": "49f6e4b1",
   "metadata": {
    "id": "49f6e4b1"
   },
   "outputs": [],
   "source": [
    "# substitui '?' por NaN na base do projeto\n",
    "session_train_X = replace_missing_value(session_train_X.copy(), '?', numeric_features)\n",
    "session_test_X = replace_missing_value(session_test_X.copy(), '?', numeric_features)\n",
    "session_train_X = replace_missing_value(session_train_X.copy(), '?', string_features)\n",
    "session_test_X = replace_missing_value(session_test_X.copy(), '?', string_features)\n",
    "\n",
    "# converte NaN para float\n",
    "session_train_X = convert_float(session_train_X, numeric_features)\n",
    "session_test_X = convert_float(session_test_X, numeric_features)"
   ]
  },
  {
   "cell_type": "code",
   "execution_count": null,
   "id": "1a971106",
   "metadata": {
    "id": "1a971106"
   },
   "outputs": [],
   "source": [
    "# substitui '?' por NaN na base original\n",
    "transact_train_database = replace_missing_value(transact_train_database.copy(), '?', numeric_features)\n",
    "transact_train_database = replace_missing_value(transact_train_database.copy(), '?', string_features)\n",
    "transact_test_database = replace_missing_value(transact_test_database.copy(), '?', numeric_features)\n",
    "transact_test_database = replace_missing_value(transact_test_database.copy(), '?', string_features)\n",
    "\n",
    "# converte NAN para float\n",
    "transact_train_database = convert_float(transact_train_database, numeric_features)\n",
    "transact_test_database = convert_float(transact_test_database, numeric_features)"
   ]
  },
  {
   "cell_type": "code",
   "execution_count": null,
   "id": "d1d08c6d",
   "metadata": {
    "colab": {
     "base_uri": "https://localhost:8080/",
     "height": 575
    },
    "id": "d1d08c6d",
    "outputId": "1bc44375-539b-427c-d42e-c3a8f6d593d8"
   },
   "outputs": [],
   "source": [
    "# estabelece valor fixo para valores ausentes em atributos não numéricos\n",
    "session_train_X = replace_missing_by_fixed_value(session_train_X, 'ausente', string_features)\n",
    "session_test_X = replace_missing_by_fixed_value(session_test_X, 'ausente', string_features)"
   ]
  },
  {
   "cell_type": "code",
   "execution_count": null,
   "id": "c7e3393f",
   "metadata": {},
   "outputs": [],
   "source": [
    "session_train_X.sample(3)"
   ]
  },
  {
   "cell_type": "code",
   "execution_count": null,
   "id": "d1848b56",
   "metadata": {},
   "outputs": [],
   "source": [
    "session_preprocessed = {}"
   ]
  },
  {
   "cell_type": "markdown",
   "id": "9e01c09e",
   "metadata": {},
   "source": [
    "#### Estratégia: substituição pela média"
   ]
  },
  {
   "cell_type": "code",
   "execution_count": null,
   "id": "74a4fedd",
   "metadata": {
    "colab": {
     "base_uri": "https://localhost:8080/",
     "height": 575
    },
    "id": "74a4fedd",
    "outputId": "c314152b-8b71-4e54-9db3-86cd21f46849"
   },
   "outputs": [],
   "source": [
    "session_train_X_mean_replacing = replace_missing_by_mean(session_train_X.copy(), numeric_features)\n",
    "session_test_X_mean_replacing = replace_missing_by_mean(session_test_X.copy(), numeric_features)\n",
    "\n",
    "session_train_X_mean_replacing = replace_missing_value(session_train_X_mean_replacing.copy(),\n",
    "    '?', customerno_dependent_feats)\n",
    "session_test_X_mean_replacing = replace_missing_value(session_test_X_mean_replacing.copy(),\n",
    "    '?', customerno_dependent_feats)\n",
    "\n",
    "session_train_X_mean_replacing = replace_missing_by_mean(\n",
    "    session_train_X_mean_replacing,\n",
    "    customerno_dependent_feats\n",
    ")\n",
    "session_test_X_mean_replacing = replace_missing_by_mean(\n",
    "    session_test_X_mean_replacing,\n",
    "    customerno_dependent_feats\n",
    ")"
   ]
  },
  {
   "cell_type": "code",
   "execution_count": null,
   "id": "218f1c5e",
   "metadata": {
    "id": "218f1c5e"
   },
   "outputs": [],
   "source": [
    "# armazena estágio de pré-processamento para facilitar na exportação\n",
    "session_preprocessed['session_train_X_mean_replacing'] = session_train_X_mean_replacing\n",
    "session_preprocessed['session_test_X_mean_replacing'] = session_test_X_mean_replacing\n",
    "session_preprocessed['session_train_y_mean_replacing'] = session_train_y.copy()"
   ]
  },
  {
   "cell_type": "code",
   "execution_count": null,
   "id": "2c860834",
   "metadata": {
    "colab": {
     "base_uri": "https://localhost:8080/",
     "height": 213
    },
    "id": "2c860834",
    "outputId": "a7b82c5c-dc68-4d52-c69f-ac00e37dd55a"
   },
   "outputs": [],
   "source": [
    "session_train_X_mean_replacing.sample(3)"
   ]
  },
  {
   "cell_type": "markdown",
   "id": "e177f583",
   "metadata": {
    "colab": {
     "base_uri": "https://localhost:8080/",
     "height": 196
    },
    "id": "c016f267",
    "outputId": "9abd1f2c-fc6d-4eee-8505-f48f2adcb634"
   },
   "source": [
    "#### Estratégia: remoção de registros pouco relevantes para o modelo após substituição pela média"
   ]
  },
  {
   "cell_type": "code",
   "execution_count": null,
   "id": "2bf94514",
   "metadata": {},
   "outputs": [],
   "source": [
    "# rows = session_train_database['customerNo'] == '?' \n",
    "#     and session_train_database['onlineStatus'] == 'ausente'\n",
    "#     and session_train_database['availability'] == 'ausente'\n",
    "temp = session_train_database[session_train_database['customerNo'] == '?']\n",
    "temp = temp[temp['onlineStatus'] == '?']\n",
    "temp = temp[temp['availability'] == '?']\n",
    "\n",
    "# demonstação de que para quando customerNo, onlineStatus e availability\n",
    "# são nulos, não há variabilidade na classe proporção aproximada de 1% para 'y'\n",
    "temp.groupby('order').sessionNo.nunique()"
   ]
  },
  {
   "cell_type": "code",
   "execution_count": null,
   "id": "637c57bd",
   "metadata": {},
   "outputs": [],
   "source": [
    "rows_to_drop = temp.index.values.tolist()\n",
    "\n",
    "session_train_X_mean_drop_replacing = session_train_X_mean_replacing.drop(rows_to_drop, axis=0)\n",
    "session_train_y_mean_drop_replacing = session_train_y.drop(rows_to_drop, axis=0)"
   ]
  },
  {
   "cell_type": "code",
   "execution_count": null,
   "id": "893beca9",
   "metadata": {},
   "outputs": [],
   "source": [
    "session_preprocessed['session_train_X_mean_drop_replacing'] = session_train_X_mean_drop_replacing\n",
    "session_preprocessed['session_test_X_mean_replacing'] = session_test_X_mean_replacing.copy()\n",
    "session_preprocessed['session_train_y_mean_drop_replacing'] = session_train_y_mean_drop_replacing"
   ]
  },
  {
   "cell_type": "code",
   "execution_count": null,
   "id": "496062b9",
   "metadata": {},
   "outputs": [],
   "source": [
    "session_train_X.sample(3)"
   ]
  },
  {
   "cell_type": "markdown",
   "id": "c7c0d6e4",
   "metadata": {},
   "source": [
    "#### Estratégia: substituição pela mediana"
   ]
  },
  {
   "cell_type": "code",
   "execution_count": null,
   "id": "a23061ec",
   "metadata": {},
   "outputs": [],
   "source": [
    "session_train_X_median_replacing = replace_missing_by_median(session_train_X.copy(), numeric_features)\n",
    "session_test_X_median_replacing = replace_missing_by_median(session_test_X.copy(), numeric_features)"
   ]
  },
  {
   "cell_type": "code",
   "execution_count": null,
   "id": "6a27f244",
   "metadata": {},
   "outputs": [],
   "source": [
    "session_train_X_median_replacing = replace_missing_value(session_train_X_median_replacing.copy(),\n",
    "    '?', customerno_dependent_feats)\n",
    "session_test_X_median_replacing = replace_missing_value(session_test_X_median_replacing.copy(),\n",
    "    '?', customerno_dependent_feats)\n",
    "\n",
    "session_train_X_median_replacing = replace_missing_by_median(\n",
    "    session_train_X_median_replacing,\n",
    "    customerno_dependent_feats\n",
    ")\n",
    "\n",
    "session_test_X_median_replacing = replace_missing_by_median(\n",
    "    session_test_X_median_replacing,\n",
    "    customerno_dependent_feats\n",
    ")"
   ]
  },
  {
   "cell_type": "code",
   "execution_count": null,
   "id": "c3fabbcb",
   "metadata": {},
   "outputs": [],
   "source": [
    "session_preprocessed['session_train_X_median_replacing'] = session_train_X_median_replacing\n",
    "session_preprocessed['session_test_X_median_replacing'] = session_test_X_median_replacing\n",
    "session_preprocessed['session_train_y_median_replacing'] = session_train_y.copy()"
   ]
  },
  {
   "cell_type": "code",
   "execution_count": null,
   "id": "e1716182",
   "metadata": {
    "colab": {
     "base_uri": "https://localhost:8080/",
     "height": 227
    },
    "id": "af60c9b8",
    "outputId": "66fae04e-c09c-416c-b09b-a27200574393"
   },
   "outputs": [],
   "source": [
    "session_train_X_mean_replacing.sample(3)"
   ]
  },
  {
   "cell_type": "markdown",
   "id": "910ce2b4",
   "metadata": {},
   "source": [
    "#### Estratégia: substituição pelo mínimo"
   ]
  },
  {
   "cell_type": "code",
   "execution_count": null,
   "id": "91d4f3d9",
   "metadata": {},
   "outputs": [],
   "source": [
    "session_train_X_min_replacing = replace_missing_by_min(session_train_X.copy(), numeric_features)\n",
    "session_test_X_min_replacing = replace_missing_by_min(session_test_X.copy(), numeric_features)"
   ]
  },
  {
   "cell_type": "code",
   "execution_count": null,
   "id": "75b0c5a3",
   "metadata": {},
   "outputs": [],
   "source": [
    "session_train_X_min_replacing = replace_missing_value(session_train_X_min_replacing.copy(),\n",
    "    '?', customerno_dependent_feats)\n",
    "session_test_X_min_replacing = replace_missing_value(session_test_X_min_replacing.copy(),\n",
    "    '?', customerno_dependent_feats)\n",
    "\n",
    "session_train_X_min_replacing = replace_missing_by_min(\n",
    "    session_train_X_min_replacing,\n",
    "    customerno_dependent_feats\n",
    ")\n",
    "\n",
    "session_test_X_min_replacing = replace_missing_by_min(\n",
    "    session_test_X_min_replacing,\n",
    "    customerno_dependent_feats\n",
    ")"
   ]
  },
  {
   "cell_type": "code",
   "execution_count": null,
   "id": "71dcd467",
   "metadata": {},
   "outputs": [],
   "source": [
    "session_preprocessed['session_train_X_min_replacing'] = session_train_X_min_replacing\n",
    "session_preprocessed['session_test_X_min_replacing'] = session_test_X_min_replacing\n",
    "session_preprocessed['session_train_y_min_replacing'] = session_train_y.copy()"
   ]
  },
  {
   "cell_type": "code",
   "execution_count": null,
   "id": "2ad584b1",
   "metadata": {
    "colab": {
     "base_uri": "https://localhost:8080/",
     "height": 227
    },
    "id": "af60c9b8",
    "outputId": "66fae04e-c09c-416c-b09b-a27200574393"
   },
   "outputs": [],
   "source": [
    "session_train_X_min_replacing.sample(3)"
   ]
  },
  {
   "cell_type": "markdown",
   "id": "9b1abaf7",
   "metadata": {
    "id": "9b1abaf7"
   },
   "source": [
    "<br>\n",
    "\n",
    "### Criação de variáveis"
   ]
  },
  {
   "cell_type": "code",
   "execution_count": null,
   "id": "70f03f4e",
   "metadata": {
    "id": "70f03f4e",
    "scrolled": true
   },
   "outputs": [],
   "source": [
    "# bMeanSumPriceOverTransacitions: valor médio do carrinho durante a sessão \n",
    "session_train_X['bMeanSumPriceOverTransacitions'] = transact_train_database.groupby('sessionNo').bSumPrice.mean()\n",
    "session_train_X['bMeanSumPriceOverTransacitions'].fillna(0, inplace=True)\n",
    "session_test_X['bMeanSumPriceOverTransacitions'] = transact_test_database.groupby('sessionNo').bSumPrice.mean()\n",
    "session_test_X['bMeanSumPriceOverTransacitions'].fillna(0, inplace=True)\n",
    "\n",
    "# meanInterationsDuration: valor médio de tempo entre uma transação e outra na sessão\n",
    "session_train_X['meanInterationsDuration'] = session_train_X['duration']/transact_train_database.groupby('sessionNo').duration.count()\n",
    "session_train_X['meanInterationsDuration'].fillna(0, inplace=True)\n",
    "session_test_X['meanInterationsDuration'] = session_test_X['duration']/transact_test_database.groupby('sessionNo').duration.count()\n",
    "session_test_X['meanInterationsDuration'].fillna(0, inplace=True)\n",
    "\n",
    "# bMeanCountOverTransacitions: quantidade média de itens no carrinho durante a sessão \n",
    "session_train_X['bMeanCountOverTransacitions'] = transact_train_database.groupby('sessionNo').bCount.mean()\n",
    "session_train_X['bMeanCountOverTransacitions'].fillna(0, inplace=True)\n",
    "session_test_X['bMeanCountOverTransacitions'] = transact_test_database.groupby('sessionNo').bCount.mean()\n",
    "session_test_X['bMeanCountOverTransacitions'].fillna(0, inplace=True)"
   ]
  },
  {
   "cell_type": "code",
   "execution_count": null,
   "id": "32b715c1",
   "metadata": {},
   "outputs": [],
   "source": [
    "from re import compile as mount\n",
    "\n",
    "\n",
    "regex = mount('.*_X.*')\n",
    "session_X = list(filter(regex.match, list(session_preprocessed.keys())))\n",
    "\n",
    "average_prices = transact_train_database.groupby('sessionNo').bSumPrice.mean()\n",
    "average_iter_durations = session_train_X['duration']/transact_train_database.groupby('sessionNo').duration.count()\n",
    "average_counts = transact_train_database.groupby('sessionNo').bCount.mean()\n",
    "\n",
    "for key in session_X:\n",
    "    # bMeanSumPriceOverTransacitions: valor médio do carrinho durante a sessão \n",
    "    session_preprocessed[key]['bMeanSumPriceOverTransacitions'] = averages.copy()\n",
    "    # meanInterationsDuration: valor médio de tempo entre uma transação e outra na sessão\n",
    "    session_preprocessed[key]['meanInterationsDuration'] = average_iter_durations.copy()\n",
    "    # bMeanCountOverTransacitions: quantidade média de itens no carrinho durante a sessão \n",
    "    session_preprocessed[key]['bMeanCountOverTransactions'] = average_counts.copy() "
   ]
  },
  {
   "cell_type": "code",
   "execution_count": null,
   "id": "0906d18d",
   "metadata": {},
   "outputs": [],
   "source": [
    "columns = ['bMeanSumPriceOverTransactions', 'meanInterationsDuration', 'bMeanCountOverTransactions']\n",
    "\n",
    "\n",
    "session_preprocessed['session_train_X_mean_replacing'] = replace_missing_by_mean(\n",
    "    session_preprocessed['session_train_X_mean_replacing'],\n",
    "    columns\n",
    ")\n",
    "session_preprocessed['session_test_X_mean_replacing'] = replace_missing_by_mean(\n",
    "    session_preprocessed['session_test_X_mean_replacing'],\n",
    "    columns\n",
    ")\n",
    "\n",
    "session_preprocessed['session_train_X_mean_drop_replacing'] = replace_missing_by_mean(\n",
    "    session_preprocessed['session_train_X_mean_drop_replacing'],\n",
    "    columns\n",
    ")\n",
    "session_preprocessed['session_test_X_mean_drop_replacing'] = replace_missing_by_mean(\n",
    "    session_preprocessed['session_test_X_mean_drop_replacing'],\n",
    "    columns\n",
    ")\n",
    "\n",
    "session_preprocessed['session_train_X_median_replacing'] = replace_missing_by_median(\n",
    "    session_preprocessed['session_train_X_median_replacing'],\n",
    "    columns\n",
    ")\n",
    "session_preprocessed['session_test_X_median_replacing'] = replace_missing_by_median(\n",
    "    session_preprocessed['session_trest_X_median_replacing'],\n",
    "    columns\n",
    ")\n",
    "\n",
    "session_preprocessed['session_train_X_min_replacing'] = replace_missing_by_min(\n",
    "    session_preprocessed['session_train_X_min_replacing'],\n",
    "    columns\n",
    ")\n",
    "session_preprocessed['session_test_X_min_replacing'] = replace_missing_by_min(\n",
    "    session_preprocessed['session_test_X_min_replacing'],\n",
    "    columns\n",
    ")"
   ]
  },
  {
   "cell_type": "code",
   "execution_count": null,
   "id": "e6e39bed",
   "metadata": {
    "colab": {
     "base_uri": "https://localhost:8080/",
     "height": 210
    },
    "id": "e6e39bed",
    "outputId": "1406cee4-cb0b-46e1-c8ef-c31ddd626e2b"
   },
   "outputs": [],
   "source": [
    "session_preprocessed['session_test_X_min_replacing'].sample(3)"
   ]
  },
  {
   "cell_type": "markdown",
   "id": "9ea0014f",
   "metadata": {
    "id": "9ea0014f"
   },
   "source": [
    "<br>\n",
    "\n",
    "### Normalização do conjunto de dados"
   ]
  },
  {
   "cell_type": "code",
   "execution_count": null,
   "id": "3a085201",
   "metadata": {},
   "outputs": [],
   "source": [
    "# Listagem dos X de treinamento e teste\n",
    "\n",
    "regex = mount('.*_X.*')\n",
    "session_X = list(filter(regex.match, list(session_preprocessed.keys())))"
   ]
  },
  {
   "cell_type": "markdown",
   "id": "0205675f",
   "metadata": {},
   "source": [
    "#### Ajusta Indexação e remove coluna não mais significativa"
   ]
  },
  {
   "cell_type": "code",
   "execution_count": null,
   "id": "b040f4d5",
   "metadata": {
    "id": "b040f4d5"
   },
   "outputs": [],
   "source": [
    "for key in session_X:\n",
    "    session_preprocessed[key].set_index('sessionNo', inplace=True)\n",
    "    session_preprocessed[key] = session_preprocessed[key].drop(['customerNo'], axis=1)"
   ]
  },
  {
   "cell_type": "code",
   "execution_count": null,
   "id": "af60c9b8",
   "metadata": {
    "colab": {
     "base_uri": "https://localhost:8080/",
     "height": 227
    },
    "id": "af60c9b8",
    "outputId": "66fae04e-c09c-416c-b09b-a27200574393"
   },
   "outputs": [],
   "source": [
    "session_preprocessed['session_train_X_median_replacing'].sample(3)"
   ]
  },
  {
   "cell_type": "markdown",
   "id": "1b6610d2",
   "metadata": {},
   "source": [
    "#### Normalização de valores"
   ]
  },
  {
   "cell_type": "code",
   "execution_count": null,
   "id": "0e347db5",
   "metadata": {
    "id": "0e347db5"
   },
   "outputs": [],
   "source": [
    "# criação das variáveis dummies\n",
    "\n",
    "for key in session_X:\n",
    "    session_preprocessed[key] = pd.get_dummies(session_preprocessed[key], prefix_sep='_')"
   ]
  },
  {
   "cell_type": "code",
   "execution_count": null,
   "id": "4d930472",
   "metadata": {
    "id": "4d930472"
   },
   "outputs": [],
   "source": [
    "# uniformização de valores numéricos\n",
    "\n",
    "from sklearn.preprocessing import MinMaxScaler\n",
    "import numpy as np\n",
    "\n",
    "scaler = MinMaxScaler()\n",
    "\n",
    "\n",
    "for key in session_X:\n",
    "    X_train_norm = scaler.fit_transform(session_preprocessed[key])\n",
    "    X_test_norm = scaler.fit_transform(session_preprocessed[key])\n",
    "    session_preprocessed[key] = pd.DataFrame(dict(zip(session_preprocessed[key].columns.values, X_train_norm.T)))"
   ]
  },
  {
   "cell_type": "code",
   "execution_count": null,
   "id": "b1e5d799",
   "metadata": {
    "colab": {
     "base_uri": "https://localhost:8080/",
     "height": 179
    },
    "id": "b1e5d799",
    "outputId": "e1945424-532d-45ac-ce82-8a625ff309aa"
   },
   "outputs": [],
   "source": [
    "session_preprocessed['session_test_X_mean_replacing'].sample(3)"
   ]
  },
  {
   "cell_type": "markdown",
   "id": "467a9064",
   "metadata": {
    "id": "467a9064"
   },
   "source": [
    "<br>\n",
    "\n",
    "### Remoção de variáveis não significativas"
   ]
  },
  {
   "cell_type": "code",
   "execution_count": null,
   "id": "8f9badb4",
   "metadata": {
    "id": "8f9badb4"
   },
   "outputs": [],
   "source": [
    "threshold_var=0\n",
    "\n",
    "for key in session_X:\n",
    "    l_var = [x for x in session_preprocessed[key].columns if session_preprocessed[key][x].var() <= threshold_var]\n",
    "    for v in l_var:\n",
    "        session_preprocessed[key] = session_preprocessed[key].drop([v], axis=1)"
   ]
  },
  {
   "cell_type": "code",
   "execution_count": null,
   "id": "bc11ac55",
   "metadata": {
    "colab": {
     "base_uri": "https://localhost:8080/",
     "height": 179
    },
    "id": "bc11ac55",
    "outputId": "924d1591-c435-4b16-9dc4-6b9464f8d9d1"
   },
   "outputs": [],
   "source": [
    "session_train_X.sample(3)"
   ]
  },
  {
   "cell_type": "markdown",
   "id": "265569ca",
   "metadata": {
    "id": "265569ca"
   },
   "source": [
    "<br>\n",
    "\n",
    "### Exportação dos dados"
   ]
  },
  {
   "cell_type": "code",
   "execution_count": null,
   "id": "3d09297e",
   "metadata": {
    "id": "3d09297e"
   },
   "outputs": [],
   "source": [
    "import os\n",
    "\n",
    "\n",
    "path = 'data'\n",
    "if not os.path.exists(path):\n",
    "    os.mkdir(path)\n",
    "\n",
    "session = list(session_preprocessed.keys())\n",
    "for key in session:\n",
    "    session_preprocessed[key].to_csv(f'{path}/{key}.csv', index=False)"
   ]
  }
 ],
 "metadata": {
  "colab": {
   "name": "PreProcessing.ipynb",
   "provenance": []
  },
  "kernelspec": {
   "display_name": "Python 3 (ipykernel)",
   "language": "python",
   "name": "python3"
  },
  "language_info": {
   "codemirror_mode": {
    "name": "ipython",
    "version": 3
   },
   "file_extension": ".py",
   "mimetype": "text/x-python",
   "name": "python",
   "nbconvert_exporter": "python",
   "pygments_lexer": "ipython3",
   "version": "3.8.10"
  }
 },
 "nbformat": 4,
 "nbformat_minor": 5
}
